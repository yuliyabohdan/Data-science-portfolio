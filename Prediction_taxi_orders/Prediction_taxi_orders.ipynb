{
 "cells": [
  {
   "cell_type": "markdown",
   "metadata": {},
   "source": [
    "## Описание проекта\n",
    "\n",
    "Компания «Чётенькое такси» собрала исторические данные о заказах такси в аэропортах. Чтобы привлекать больше водителей в период пиковой нагрузки, нужно спрогнозировать количество заказов такси на следующий час. Постройте модель для такого предсказания.\n",
    "\n",
    "Значение метрики *RMSE* на тестовой выборке должно быть не больше 48.\n",
    "\n",
    "### Инструкция по выполнению проекта\n",
    "\n",
    "1. Загрузите данные и выполните их ресемплирование по одному часу.\n",
    "2. Проанализируйте данные.\n",
    "3. Обучите разные модели с различными гиперпараметрами. Сделайте тестовую выборку размером 10% от исходных данных.\n",
    "4. Проверьте данные на тестовой выборке и сделайте выводы.\n",
    "\n",
    "### Описание данных\n",
    "\n",
    "Данные лежат в файле `taxi.csv`. Количество заказов находится в столбце '*num_orders*' (от англ. *number of orders*, «число заказов»)."
   ]
  },
  {
   "cell_type": "code",
   "execution_count": 5,
   "metadata": {},
   "outputs": [],
   "source": [
    "import pandas as pd"
   ]
  },
  {
   "cell_type": "code",
   "execution_count": 6,
   "metadata": {},
   "outputs": [],
   "source": [
    "import numpy as np"
   ]
  },
  {
   "cell_type": "code",
   "execution_count": 7,
   "metadata": {},
   "outputs": [],
   "source": [
    "from statsmodels.tsa.seasonal import seasonal_decompose"
   ]
  },
  {
   "cell_type": "code",
   "execution_count": 8,
   "metadata": {},
   "outputs": [],
   "source": [
    "import matplotlib.pyplot as plt"
   ]
  },
  {
   "cell_type": "code",
   "execution_count": 9,
   "metadata": {},
   "outputs": [],
   "source": [
    "from sklearn.model_selection import train_test_split"
   ]
  },
  {
   "cell_type": "code",
   "execution_count": 10,
   "metadata": {},
   "outputs": [],
   "source": [
    "from sklearn.linear_model import LinearRegression"
   ]
  },
  {
   "cell_type": "code",
   "execution_count": 11,
   "metadata": {},
   "outputs": [],
   "source": [
    "from sklearn.tree import DecisionTreeRegressor"
   ]
  },
  {
   "cell_type": "code",
   "execution_count": 12,
   "metadata": {},
   "outputs": [],
   "source": [
    "from sklearn.ensemble import RandomForestRegressor"
   ]
  },
  {
   "cell_type": "code",
   "execution_count": 13,
   "metadata": {},
   "outputs": [],
   "source": [
    "from sklearn.metrics import mean_squared_error"
   ]
  },
  {
   "cell_type": "code",
   "execution_count": 14,
   "metadata": {},
   "outputs": [],
   "source": [
    "from sklearn.metrics import mean_absolute_error"
   ]
  },
  {
   "cell_type": "code",
   "execution_count": 15,
   "metadata": {},
   "outputs": [],
   "source": [
    "import warnings\n",
    "warnings.filterwarnings('ignore')"
   ]
  },
  {
   "cell_type": "markdown",
   "metadata": {},
   "source": [
    "# 1. Подготовка"
   ]
  },
  {
   "cell_type": "code",
   "execution_count": 16,
   "metadata": {},
   "outputs": [],
   "source": [
    "orders = pd.read_csv('/datasets/taxi.csv', index_col=[0], parse_dates=[0]) "
   ]
  },
  {
   "cell_type": "code",
   "execution_count": 17,
   "metadata": {},
   "outputs": [
    {
     "data": {
      "text/html": [
       "<div>\n",
       "<style scoped>\n",
       "    .dataframe tbody tr th:only-of-type {\n",
       "        vertical-align: middle;\n",
       "    }\n",
       "\n",
       "    .dataframe tbody tr th {\n",
       "        vertical-align: top;\n",
       "    }\n",
       "\n",
       "    .dataframe thead th {\n",
       "        text-align: right;\n",
       "    }\n",
       "</style>\n",
       "<table border=\"1\" class=\"dataframe\">\n",
       "  <thead>\n",
       "    <tr style=\"text-align: right;\">\n",
       "      <th></th>\n",
       "      <th>num_orders</th>\n",
       "    </tr>\n",
       "    <tr>\n",
       "      <th>datetime</th>\n",
       "      <th></th>\n",
       "    </tr>\n",
       "  </thead>\n",
       "  <tbody>\n",
       "    <tr>\n",
       "      <td>2018-03-01 00:00:00</td>\n",
       "      <td>9</td>\n",
       "    </tr>\n",
       "    <tr>\n",
       "      <td>2018-03-01 00:10:00</td>\n",
       "      <td>14</td>\n",
       "    </tr>\n",
       "    <tr>\n",
       "      <td>2018-03-01 00:20:00</td>\n",
       "      <td>28</td>\n",
       "    </tr>\n",
       "    <tr>\n",
       "      <td>2018-03-01 00:30:00</td>\n",
       "      <td>20</td>\n",
       "    </tr>\n",
       "    <tr>\n",
       "      <td>2018-03-01 00:40:00</td>\n",
       "      <td>32</td>\n",
       "    </tr>\n",
       "    <tr>\n",
       "      <td>2018-03-01 00:50:00</td>\n",
       "      <td>21</td>\n",
       "    </tr>\n",
       "    <tr>\n",
       "      <td>2018-03-01 01:00:00</td>\n",
       "      <td>7</td>\n",
       "    </tr>\n",
       "    <tr>\n",
       "      <td>2018-03-01 01:10:00</td>\n",
       "      <td>5</td>\n",
       "    </tr>\n",
       "    <tr>\n",
       "      <td>2018-03-01 01:20:00</td>\n",
       "      <td>17</td>\n",
       "    </tr>\n",
       "    <tr>\n",
       "      <td>2018-03-01 01:30:00</td>\n",
       "      <td>12</td>\n",
       "    </tr>\n",
       "    <tr>\n",
       "      <td>2018-03-01 01:40:00</td>\n",
       "      <td>19</td>\n",
       "    </tr>\n",
       "    <tr>\n",
       "      <td>2018-03-01 01:50:00</td>\n",
       "      <td>25</td>\n",
       "    </tr>\n",
       "    <tr>\n",
       "      <td>2018-03-01 02:00:00</td>\n",
       "      <td>22</td>\n",
       "    </tr>\n",
       "    <tr>\n",
       "      <td>2018-03-01 02:10:00</td>\n",
       "      <td>12</td>\n",
       "    </tr>\n",
       "    <tr>\n",
       "      <td>2018-03-01 02:20:00</td>\n",
       "      <td>19</td>\n",
       "    </tr>\n",
       "    <tr>\n",
       "      <td>2018-03-01 02:30:00</td>\n",
       "      <td>8</td>\n",
       "    </tr>\n",
       "    <tr>\n",
       "      <td>2018-03-01 02:40:00</td>\n",
       "      <td>6</td>\n",
       "    </tr>\n",
       "    <tr>\n",
       "      <td>2018-03-01 02:50:00</td>\n",
       "      <td>4</td>\n",
       "    </tr>\n",
       "    <tr>\n",
       "      <td>2018-03-01 03:00:00</td>\n",
       "      <td>8</td>\n",
       "    </tr>\n",
       "    <tr>\n",
       "      <td>2018-03-01 03:10:00</td>\n",
       "      <td>17</td>\n",
       "    </tr>\n",
       "    <tr>\n",
       "      <td>2018-03-01 03:20:00</td>\n",
       "      <td>7</td>\n",
       "    </tr>\n",
       "    <tr>\n",
       "      <td>2018-03-01 03:30:00</td>\n",
       "      <td>4</td>\n",
       "    </tr>\n",
       "    <tr>\n",
       "      <td>2018-03-01 03:40:00</td>\n",
       "      <td>10</td>\n",
       "    </tr>\n",
       "    <tr>\n",
       "      <td>2018-03-01 03:50:00</td>\n",
       "      <td>20</td>\n",
       "    </tr>\n",
       "    <tr>\n",
       "      <td>2018-03-01 04:00:00</td>\n",
       "      <td>13</td>\n",
       "    </tr>\n",
       "    <tr>\n",
       "      <td>2018-03-01 04:10:00</td>\n",
       "      <td>17</td>\n",
       "    </tr>\n",
       "    <tr>\n",
       "      <td>2018-03-01 04:20:00</td>\n",
       "      <td>5</td>\n",
       "    </tr>\n",
       "    <tr>\n",
       "      <td>2018-03-01 04:30:00</td>\n",
       "      <td>2</td>\n",
       "    </tr>\n",
       "    <tr>\n",
       "      <td>2018-03-01 04:40:00</td>\n",
       "      <td>3</td>\n",
       "    </tr>\n",
       "    <tr>\n",
       "      <td>2018-03-01 04:50:00</td>\n",
       "      <td>3</td>\n",
       "    </tr>\n",
       "    <tr>\n",
       "      <td>2018-03-01 05:00:00</td>\n",
       "      <td>3</td>\n",
       "    </tr>\n",
       "    <tr>\n",
       "      <td>2018-03-01 05:10:00</td>\n",
       "      <td>2</td>\n",
       "    </tr>\n",
       "    <tr>\n",
       "      <td>2018-03-01 05:20:00</td>\n",
       "      <td>0</td>\n",
       "    </tr>\n",
       "    <tr>\n",
       "      <td>2018-03-01 05:30:00</td>\n",
       "      <td>1</td>\n",
       "    </tr>\n",
       "    <tr>\n",
       "      <td>2018-03-01 05:40:00</td>\n",
       "      <td>0</td>\n",
       "    </tr>\n",
       "    <tr>\n",
       "      <td>2018-03-01 05:50:00</td>\n",
       "      <td>0</td>\n",
       "    </tr>\n",
       "    <tr>\n",
       "      <td>2018-03-01 06:00:00</td>\n",
       "      <td>0</td>\n",
       "    </tr>\n",
       "    <tr>\n",
       "      <td>2018-03-01 06:10:00</td>\n",
       "      <td>0</td>\n",
       "    </tr>\n",
       "    <tr>\n",
       "      <td>2018-03-01 06:20:00</td>\n",
       "      <td>2</td>\n",
       "    </tr>\n",
       "    <tr>\n",
       "      <td>2018-03-01 06:30:00</td>\n",
       "      <td>1</td>\n",
       "    </tr>\n",
       "  </tbody>\n",
       "</table>\n",
       "</div>"
      ],
      "text/plain": [
       "                     num_orders\n",
       "datetime                       \n",
       "2018-03-01 00:00:00           9\n",
       "2018-03-01 00:10:00          14\n",
       "2018-03-01 00:20:00          28\n",
       "2018-03-01 00:30:00          20\n",
       "2018-03-01 00:40:00          32\n",
       "2018-03-01 00:50:00          21\n",
       "2018-03-01 01:00:00           7\n",
       "2018-03-01 01:10:00           5\n",
       "2018-03-01 01:20:00          17\n",
       "2018-03-01 01:30:00          12\n",
       "2018-03-01 01:40:00          19\n",
       "2018-03-01 01:50:00          25\n",
       "2018-03-01 02:00:00          22\n",
       "2018-03-01 02:10:00          12\n",
       "2018-03-01 02:20:00          19\n",
       "2018-03-01 02:30:00           8\n",
       "2018-03-01 02:40:00           6\n",
       "2018-03-01 02:50:00           4\n",
       "2018-03-01 03:00:00           8\n",
       "2018-03-01 03:10:00          17\n",
       "2018-03-01 03:20:00           7\n",
       "2018-03-01 03:30:00           4\n",
       "2018-03-01 03:40:00          10\n",
       "2018-03-01 03:50:00          20\n",
       "2018-03-01 04:00:00          13\n",
       "2018-03-01 04:10:00          17\n",
       "2018-03-01 04:20:00           5\n",
       "2018-03-01 04:30:00           2\n",
       "2018-03-01 04:40:00           3\n",
       "2018-03-01 04:50:00           3\n",
       "2018-03-01 05:00:00           3\n",
       "2018-03-01 05:10:00           2\n",
       "2018-03-01 05:20:00           0\n",
       "2018-03-01 05:30:00           1\n",
       "2018-03-01 05:40:00           0\n",
       "2018-03-01 05:50:00           0\n",
       "2018-03-01 06:00:00           0\n",
       "2018-03-01 06:10:00           0\n",
       "2018-03-01 06:20:00           2\n",
       "2018-03-01 06:30:00           1"
      ]
     },
     "execution_count": 17,
     "metadata": {},
     "output_type": "execute_result"
    }
   ],
   "source": [
    "orders.head(40)"
   ]
  },
  {
   "cell_type": "code",
   "execution_count": 18,
   "metadata": {},
   "outputs": [
    {
     "name": "stdout",
     "output_type": "stream",
     "text": [
      "<class 'pandas.core.frame.DataFrame'>\n",
      "DatetimeIndex: 26496 entries, 2018-03-01 00:00:00 to 2018-08-31 23:50:00\n",
      "Data columns (total 1 columns):\n",
      "num_orders    26496 non-null int64\n",
      "dtypes: int64(1)\n",
      "memory usage: 414.0 KB\n"
     ]
    }
   ],
   "source": [
    "orders.info()"
   ]
  },
  {
   "cell_type": "code",
   "execution_count": 19,
   "metadata": {},
   "outputs": [
    {
     "data": {
      "text/plain": [
       "<bound method NDFrame.describe of                      num_orders\n",
       "datetime                       \n",
       "2018-03-01 00:00:00           9\n",
       "2018-03-01 00:10:00          14\n",
       "2018-03-01 00:20:00          28\n",
       "2018-03-01 00:30:00          20\n",
       "2018-03-01 00:40:00          32\n",
       "...                         ...\n",
       "2018-08-31 23:10:00          32\n",
       "2018-08-31 23:20:00          24\n",
       "2018-08-31 23:30:00          27\n",
       "2018-08-31 23:40:00          39\n",
       "2018-08-31 23:50:00          53\n",
       "\n",
       "[26496 rows x 1 columns]>"
      ]
     },
     "execution_count": 19,
     "metadata": {},
     "output_type": "execute_result"
    }
   ],
   "source": [
    "orders.describe"
   ]
  },
  {
   "cell_type": "markdown",
   "metadata": {},
   "source": [
    "Данные в порядке, обработка не требуется."
   ]
  },
  {
   "cell_type": "code",
   "execution_count": 20,
   "metadata": {},
   "outputs": [],
   "source": [
    "orders.sort_index(inplace=True) #отсортируем в хронологическом порядке"
   ]
  },
  {
   "cell_type": "code",
   "execution_count": 21,
   "metadata": {},
   "outputs": [],
   "source": [
    "orders = orders.resample('1H').mean() #ресемплирование со средним по каждому часу"
   ]
  },
  {
   "cell_type": "code",
   "execution_count": 22,
   "metadata": {},
   "outputs": [
    {
     "data": {
      "text/html": [
       "<div>\n",
       "<style scoped>\n",
       "    .dataframe tbody tr th:only-of-type {\n",
       "        vertical-align: middle;\n",
       "    }\n",
       "\n",
       "    .dataframe tbody tr th {\n",
       "        vertical-align: top;\n",
       "    }\n",
       "\n",
       "    .dataframe thead th {\n",
       "        text-align: right;\n",
       "    }\n",
       "</style>\n",
       "<table border=\"1\" class=\"dataframe\">\n",
       "  <thead>\n",
       "    <tr style=\"text-align: right;\">\n",
       "      <th></th>\n",
       "      <th>num_orders</th>\n",
       "    </tr>\n",
       "    <tr>\n",
       "      <th>datetime</th>\n",
       "      <th></th>\n",
       "    </tr>\n",
       "  </thead>\n",
       "  <tbody>\n",
       "    <tr>\n",
       "      <td>2018-03-01 00:00:00</td>\n",
       "      <td>20.666667</td>\n",
       "    </tr>\n",
       "    <tr>\n",
       "      <td>2018-03-01 01:00:00</td>\n",
       "      <td>14.166667</td>\n",
       "    </tr>\n",
       "    <tr>\n",
       "      <td>2018-03-01 02:00:00</td>\n",
       "      <td>11.833333</td>\n",
       "    </tr>\n",
       "    <tr>\n",
       "      <td>2018-03-01 03:00:00</td>\n",
       "      <td>11.000000</td>\n",
       "    </tr>\n",
       "    <tr>\n",
       "      <td>2018-03-01 04:00:00</td>\n",
       "      <td>7.166667</td>\n",
       "    </tr>\n",
       "    <tr>\n",
       "      <td>2018-03-01 05:00:00</td>\n",
       "      <td>1.000000</td>\n",
       "    </tr>\n",
       "    <tr>\n",
       "      <td>2018-03-01 06:00:00</td>\n",
       "      <td>2.000000</td>\n",
       "    </tr>\n",
       "    <tr>\n",
       "      <td>2018-03-01 07:00:00</td>\n",
       "      <td>2.500000</td>\n",
       "    </tr>\n",
       "    <tr>\n",
       "      <td>2018-03-01 08:00:00</td>\n",
       "      <td>5.666667</td>\n",
       "    </tr>\n",
       "    <tr>\n",
       "      <td>2018-03-01 09:00:00</td>\n",
       "      <td>11.500000</td>\n",
       "    </tr>\n",
       "  </tbody>\n",
       "</table>\n",
       "</div>"
      ],
      "text/plain": [
       "                     num_orders\n",
       "datetime                       \n",
       "2018-03-01 00:00:00   20.666667\n",
       "2018-03-01 01:00:00   14.166667\n",
       "2018-03-01 02:00:00   11.833333\n",
       "2018-03-01 03:00:00   11.000000\n",
       "2018-03-01 04:00:00    7.166667\n",
       "2018-03-01 05:00:00    1.000000\n",
       "2018-03-01 06:00:00    2.000000\n",
       "2018-03-01 07:00:00    2.500000\n",
       "2018-03-01 08:00:00    5.666667\n",
       "2018-03-01 09:00:00   11.500000"
      ]
     },
     "execution_count": 22,
     "metadata": {},
     "output_type": "execute_result"
    }
   ],
   "source": [
    "orders.head(10)"
   ]
  },
  {
   "cell_type": "markdown",
   "metadata": {},
   "source": [
    "# 2. Анализ"
   ]
  },
  {
   "cell_type": "code",
   "execution_count": 23,
   "metadata": {},
   "outputs": [
    {
     "data": {
      "text/plain": [
       "[<matplotlib.lines.Line2D at 0x7f9f38f059d0>]"
      ]
     },
     "execution_count": 23,
     "metadata": {},
     "output_type": "execute_result"
    },
    {
     "data": {
      "image/png": "[encoded data removed]",
      "text/plain": [
       "<Figure size 432x288 with 1 Axes>"
      ]
     },
     "metadata": {
      "needs_background": "light"
     },
     "output_type": "display_data"
    }
   ],
   "source": [
    "plt.plot(orders) # смотрим распределение количества заказов"
   ]
  },
  {
   "cell_type": "markdown",
   "metadata": {},
   "source": [
    "По графику видно, что временной ряд нельзя назвать стационарным, т.к. его распределение изменяется со временем."
   ]
  },
  {
   "cell_type": "code",
   "execution_count": 24,
   "metadata": {},
   "outputs": [
    {
     "data": {
      "image/png": "[encoded data removed]",
      "text/plain": [
       "<Figure size 432x288 with 1 Axes>"
      ]
     },
     "metadata": {
      "needs_background": "light"
     },
     "output_type": "display_data"
    },
    {
     "data": {
      "image/png": "[encoded data removed]",
      "text/plain": [
       "<Figure size 432x288 with 1 Axes>"
      ]
     },
     "metadata": {
      "needs_background": "light"
     },
     "output_type": "display_data"
    },
    {
     "data": {
      "image/png": "[encoded data removed]",
      "text/plain": [
       "<Figure size 432x288 with 1 Axes>"
      ]
     },
     "metadata": {
      "needs_background": "light"
     },
     "output_type": "display_data"
    }
   ],
   "source": [
    "decomposed = seasonal_decompose(orders) # смортим графики на тренды и сезонность\n",
    "decomposed.trend.plot() \n",
    "plt.title('тренд')\n",
    "decomposed.seasonal.plot()\n",
    "plt.title('сезонная составляющая')\n",
    "decomposed.resid.plot()\n",
    "plt.title('остаток декомпозиции')\n",
    "plt.show()"
   ]
  },
  {
   "cell_type": "markdown",
   "metadata": {},
   "source": [
    "Видим следующее:\n",
    "    - Тренд  — плавное увеличение количества заказов. \n",
    "    - Сезонность в данном виде не проявляется."
   ]
  },
  {
   "cell_type": "code",
   "execution_count": 25,
   "metadata": {},
   "outputs": [],
   "source": [
    "#orders['mean'] = orders['num_orders'].rolling(15).mean()\n",
    "#orders['std'] = orders['num_orders'].rolling(15).std()"
   ]
  },
  {
   "cell_type": "code",
   "execution_count": 22,
   "metadata": {},
   "outputs": [],
   "source": [
    "#orders.plot()"
   ]
  },
  {
   "cell_type": "markdown",
   "metadata": {},
   "source": [
    "# 3. Обучение"
   ]
  },
  {
   "cell_type": "code",
   "execution_count": 26,
   "metadata": {},
   "outputs": [],
   "source": [
    "#создадим функцию, чтобы добавить календарные признаки к таблице\n",
    "def make_features(data, max_lag, rolling_mean_size):\n",
    "    data['hour'] = data.index.hour\n",
    "    data['minute'] = data.index.minute\n",
    "    data['month'] = data.index.month\n",
    "    data['day'] = data.index.day\n",
    "    data['dayofweek'] = data.index.dayofweek\n",
    "    \n",
    "    for lag in range(1, max_lag + 1):\n",
    "        data['lag_{}'.format(lag)] = data['num_orders'].shift(lag)\n",
    "\n",
    "    data['rolling_mean'] = data['num_orders'].shift().rolling(rolling_mean_size).mean()"
   ]
  },
  {
   "cell_type": "code",
   "execution_count": 27,
   "metadata": {},
   "outputs": [],
   "source": [
    "make_features(orders, 5, 1) # добавим столбцы признаков"
   ]
  },
  {
   "cell_type": "code",
   "execution_count": 28,
   "metadata": {},
   "outputs": [],
   "source": [
    "train, valid = train_test_split(orders, shuffle=False, test_size=0.2) # делим на выборки в соотношении 8:1:1.\n",
    "train = train.dropna()\n",
    "valid, test = train_test_split(valid, shuffle=False, test_size=0.5)\n",
    "valid = valid.dropna()\n",
    "\n",
    "target_train = train['num_orders']\n",
    "features_train = train.drop(columns=['num_orders'] , axis=1)\n",
    "target_valid = valid['num_orders']\n",
    "features_valid = valid.drop(columns=['num_orders'] , axis=1)\n",
    "target_test = test['num_orders']\n",
    "features_test = test.drop(columns=['num_orders'] , axis=1)"
   ]
  },
  {
   "cell_type": "code",
   "execution_count": 29,
   "metadata": {},
   "outputs": [
    {
     "name": "stdout",
     "output_type": "stream",
     "text": [
      "RMSE обучающей выборки: 4.834878377434334\n",
      "RMSE валидационной выборки:  6.753888363305243\n"
     ]
    }
   ],
   "source": [
    "model = LinearRegression() # обучаем модель линейной регрессии\n",
    "model.fit(features_train, target_train)\n",
    "predictions_train = model.predict(features_train)\n",
    "predictions_valid = model.predict(features_valid)\n",
    "print(\"RMSE обучающей выборки:\", mean_squared_error(target_train, predictions_train) **0.5)\n",
    "print(\"RMSE валидационной выборки: \", mean_squared_error(target_valid, predictions_valid)**0.5)"
   ]
  },
  {
   "cell_type": "code",
   "execution_count": 30,
   "metadata": {},
   "outputs": [
    {
     "name": "stdout",
     "output_type": "stream",
     "text": [
      "max_depth = 1 :5.3130026802201655 8.569940229039904\n",
      "max_depth = 2 :4.845570611612969 8.228256397671636\n",
      "max_depth = 3 :4.49820346735707 7.449127573272136\n",
      "max_depth = 4 :4.265141762307007 7.002007299744945\n",
      "max_depth = 5 :3.9474518937955834 6.3096861905839505\n",
      "max_depth = 6 :3.6853921555773246 6.116980555042102\n",
      "max_depth = 7 :3.45243841398446 6.296126510565672\n",
      "max_depth = 8 :3.1423348061161147 6.501202722198514\n",
      "max_depth = 9 :2.841057662726392 6.488715527651035\n",
      "max_depth = 10 :2.5479991442291516 6.67111025544327\n",
      "max_depth = 11 :2.2327007856022196 6.621312689696323\n",
      "max_depth = 12 :1.9239639659913932 6.601076141890518\n",
      "max_depth = 13 :1.6138384983910472 6.822566033212801\n",
      "max_depth = 14 :1.3177668590823657 6.820096886468116\n",
      "max_depth = 15 :1.0181298865081911 7.084350884830291\n",
      "max_depth = 16 :0.7601465416981729 7.065401947273422\n",
      "max_depth = 17 :0.5228580769489293 7.202728303320337\n",
      "max_depth = 18 :0.3501050003291366 7.089150855541653\n",
      "max_depth = 19 :0.21682554326925169 6.968744187479398\n"
     ]
    },
    {
     "data": {
      "text/plain": [
       "Text(0.5, 0, 'max depth')"
      ]
     },
     "execution_count": 30,
     "metadata": {},
     "output_type": "execute_result"
    },
    {
     "data": {
      "image/png": "[encoded data removed]",
      "text/plain": [
       "<Figure size 432x288 with 1 Axes>"
      ]
     },
     "metadata": {
      "needs_background": "light"
     },
     "output_type": "display_data"
    }
   ],
   "source": [
    "model_train = {} # обучаем модель регрессии деревом решений\n",
    "model_valid = {}\n",
    "for depth in range(1, 20):\n",
    "    model = DecisionTreeRegressor(max_depth=depth)\n",
    "    model.fit(features_train, target_train)\n",
    "    predicted_train = model.predict(features_train)\n",
    "    predicted_valid = model.predict(features_valid)\n",
    "        \n",
    "    model_train[depth] = mean_squared_error(target_train, predicted_train)**0.5 \n",
    "    model_valid[depth] = mean_squared_error(target_valid, predicted_valid)**0.5\n",
    "    print('max_depth =', depth, ':', end='')\n",
    "    print( mean_squared_error(target_train, predicted_train)**0.5, mean_squared_error(target_valid, predicted_valid)**0.5)\n",
    "\n",
    "model_valid = pd.Series(model_valid)\n",
    "model_train = pd.Series(model_train)\n",
    "model_rmse = pd.DataFrame({'model_valid': model_valid, 'model_train': model_train})\n",
    "model_rmse.plot()\n",
    "plt.ylabel('rmse')\n",
    "plt.xlabel('max depth')"
   ]
  },
  {
   "cell_type": "markdown",
   "metadata": {},
   "source": [
    "Лучшее значение rmse_train=3.66 и rmse_valid=6.01 при max depth=6, дальше модель переобучается."
   ]
  },
  {
   "cell_type": "code",
   "execution_count": 31,
   "metadata": {},
   "outputs": [
    {
     "name": "stdout",
     "output_type": "stream",
     "text": [
      "n_estimators = 1 :3.1494740683723133 6.7558049076126725\n",
      "n_estimators = 2 :2.361179397527445 6.439788120794347\n",
      "n_estimators = 3 :2.029487982829812 6.012083873786744\n",
      "n_estimators = 4 :1.8343517074325786 5.978389311779352\n",
      "n_estimators = 5 :1.7585783286746106 5.839220687756352\n",
      "n_estimators = 6 :1.6987788275339777 5.76074824937833\n",
      "n_estimators = 7 :1.6492179755644285 5.806682476554729\n",
      "n_estimators = 8 :1.6173334617517519 5.765674933548886\n",
      "n_estimators = 9 :1.5865197375973072 5.743952741609265\n",
      "n_estimators = 10 :1.5696060556180074 5.680031927271317\n",
      "n_estimators = 11 :1.5533989335413478 5.638058831783202\n",
      "n_estimators = 12 :1.532635319325868 5.58751936370664\n",
      "n_estimators = 13 :1.5240219055989195 5.606021150844021\n",
      "n_estimators = 14 :1.507953714580266 5.575367635799913\n",
      "n_estimators = 15 :1.4960023082159806 5.5826313064023205\n",
      "n_estimators = 16 :1.4845012786870952 5.568523565901197\n",
      "n_estimators = 17 :1.4692245326810056 5.54416529344772\n",
      "n_estimators = 18 :1.4510281594211185 5.5112591659585\n",
      "n_estimators = 19 :1.4450465429662105 5.5168487169809195\n"
     ]
    },
    {
     "data": {
      "text/plain": [
       "Text(0.5, 0, 'n_estimators')"
      ]
     },
     "execution_count": 31,
     "metadata": {},
     "output_type": "execute_result"
    },
    {
     "data": {
      "image/png": "[encoded data removed]",
      "text/plain": [
       "<Figure size 432x288 with 1 Axes>"
      ]
     },
     "metadata": {
      "needs_background": "light"
     },
     "output_type": "display_data"
    }
   ],
   "source": [
    "model_train = {}\n",
    "model_valid = {}\n",
    "for estim in range(1, 20): # проверяем модель регреccии для случайного леса\n",
    "    model = RandomForestRegressor(n_estimators=estim, random_state=12345)\n",
    "    model.fit(features_train, target_train)\n",
    "    predicted_train = model.predict(features_train)\n",
    "    predicted_valid = model.predict(features_valid)\n",
    "        \n",
    "    model_train[estim] = mean_squared_error(target_train, predicted_train)**0.5 \n",
    "    model_valid[estim] = mean_squared_error(target_valid, predicted_valid)**0.5\n",
    "    print('n_estimators =', estim, ':', end='')\n",
    "    print( mean_squared_error(target_train, predicted_train)**0.5, mean_squared_error(target_valid, predicted_valid)**0.5)\n",
    "\n",
    "model_valid = pd.Series(model_valid)\n",
    "model_train = pd.Series(model_train)\n",
    "model_rmse = pd.DataFrame({'model_valid': model_valid, 'model_train': model_train})\n",
    "model_rmse.plot()\n",
    "plt.ylabel('rmse')\n",
    "plt.xlabel('n_estimators')"
   ]
  },
  {
   "cell_type": "markdown",
   "metadata": {},
   "source": [
    "Лучшее значение rmse_train=1.93 и rmse_valid=5.97 при n_estimators=4, дальше модель переобучается."
   ]
  },
  {
   "cell_type": "markdown",
   "metadata": {},
   "source": [
    "# 4. Тестирование"
   ]
  },
  {
   "cell_type": "markdown",
   "metadata": {},
   "source": [
    "Протестируем модели для лучших показателей."
   ]
  },
  {
   "cell_type": "code",
   "execution_count": 32,
   "metadata": {},
   "outputs": [
    {
     "name": "stdout",
     "output_type": "stream",
     "text": [
      "RMSE тестовой выборки:  8.807393450587277\n"
     ]
    }
   ],
   "source": [
    "model = LinearRegression() #  модель линейной регрессии\n",
    "model.fit(features_train, target_train)\n",
    "predictions_test = model.predict(features_test)\n",
    "print(\"RMSE тестовой выборки: \", mean_squared_error(target_test, predictions_test)**0.5)"
   ]
  },
  {
   "cell_type": "code",
   "execution_count": 33,
   "metadata": {},
   "outputs": [
    {
     "name": "stdout",
     "output_type": "stream",
     "text": [
      "RMSE тестовой выборки:  10.035983151877533\n"
     ]
    }
   ],
   "source": [
    "model = DecisionTreeRegressor(max_depth=6) #  модель решающего дерева\n",
    "model.fit(features_train, target_train)\n",
    "predictions_test = model.predict(features_test)\n",
    "print(\"RMSE тестовой выборки: \", mean_squared_error(target_test, predictions_test)**0.5)"
   ]
  },
  {
   "cell_type": "code",
   "execution_count": 34,
   "metadata": {},
   "outputs": [
    {
     "name": "stdout",
     "output_type": "stream",
     "text": [
      "RMSE тестовой выборки:  8.760252648070095\n"
     ]
    }
   ],
   "source": [
    "model = RandomForestRegressor(n_estimators=4) #  модель случайного леса\n",
    "model.fit(features_train, target_train)\n",
    "predictions_test = model.predict(features_test)\n",
    "print(\"RMSE тестовой выборки: \", mean_squared_error(target_test, predictions_test)**0.5)"
   ]
  },
  {
   "cell_type": "markdown",
   "metadata": {},
   "source": [
    "Оценим лучшую модель  предыдущим значением ряда и найдем для этого прогноза значение MAE."
   ]
  },
  {
   "cell_type": "code",
   "execution_count": 35,
   "metadata": {},
   "outputs": [
    {
     "name": "stdout",
     "output_type": "stream",
     "text": [
      "MAE: 4.547071392659628\n"
     ]
    }
   ],
   "source": [
    "pred_previous = test.shift()\n",
    "pred_previous.iloc[0] = train.iloc[-1]\n",
    "print(\"MAE:\", mean_absolute_error(test, pred_previous))"
   ]
  },
  {
   "cell_type": "markdown",
   "metadata": {},
   "source": [
    "## Выводы\n",
    "\n",
    "В ходе проделанной работы были данные по количесту заказов обработаны как временные ряды и проанализированы.\n",
    "\n",
    "Анализ показал тренд по увеличению количества вызовов в на протяжении всего периода, сезонность не выявленя на данном интервале. По общему графику количествов вызовор видно, что временной ряд нельзя назвать стационарным, т.к. его распределение изменяется со временем.\n",
    "\n",
    "Были обучены разные модели с различными гиперпараметрами. \n",
    "    - для линейной регрессии получили: RMSE обучающей выборки: 4.83, RMSE валидационной выборки:  6.75\n",
    "    - для дерева решений rmse_train=3.66 и rmse_valid=6.01 при max depth=6, дальше модель переобучается\n",
    "    - для случайного леса rmse_train=1.93 и rmse_valid=5.97 при n_estimators=4, дальше модель переобучается.\n",
    "\n",
    "Проверили модели с лучшими гиперпараметрами на тестовой выборке размером 10% от исходных данных.\n",
    "\n",
    "Для линейной регрессии получили RMSE 8.81, для дерева решений - 9.97, для случайного леса - 8.6 - самое лучшее значение (при проверке адекватности MAE: 4.54).\n"
   ]
  }
 ],
 "metadata": {
  "kernelspec": {
   "display_name": "Python 3",
   "language": "python",
   "name": "python3"
  },
  "language_info": {
   "codemirror_mode": {
    "name": "ipython",
    "version": 3
   },
   "file_extension": ".py",
   "mimetype": "text/x-python",
   "name": "python",
   "nbconvert_exporter": "python",
   "pygments_lexer": "ipython3",
   "version": "3.7.4"
  }
 },
 "nbformat": 4,
 "nbformat_minor": 2
}
