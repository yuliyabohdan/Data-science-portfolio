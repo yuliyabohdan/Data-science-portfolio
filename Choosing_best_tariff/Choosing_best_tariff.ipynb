{
 "cells": [
  {
   "cell_type": "markdown",
   "metadata": {},
   "source": [
    "# Описание проекта по рекомендации тарифов"
   ]
  },
  {
   "cell_type": "markdown",
   "metadata": {},
   "source": [
    "В вашем распоряжении данные о поведении клиентов, которые уже перешли на эти тарифы (из проекта курса «Статистический анализ данных»). Нужно построить модель для задачи классификации, которая выберет подходящий тариф («Смарт» или «Ультра»). Предобработка данных не понадобится — вы её уже сделали.\n",
    "\n",
    "Постройте модель с максимально большим значением *accuracy*. Чтобы сдать проект успешно, нужно довести долю правильных ответов по крайней мере до 0.75. Проверьте *accuracy* на тестовой выборке самостоятельно."
   ]
  },
  {
   "cell_type": "markdown",
   "metadata": {},
   "source": [
    "## 1. Откройте и изучите файл"
   ]
  },
  {
   "cell_type": "code",
   "execution_count": 110,
   "metadata": {},
   "outputs": [],
   "source": [
    "import pandas as pd"
   ]
  },
  {
   "cell_type": "markdown",
   "metadata": {},
   "source": [
    "# Описание данных\n",
    "\n",
    "Каждый объект в наборе данных — это информация о поведении одного пользователя за месяц. Известно:\n",
    "   - сalls — количество звонков,\n",
    "   - minutes — суммарная длительность звонков в минутах,\n",
    "   - messages — количество sms-сообщений,\n",
    "   - mb_used — израсходованный интернет-трафик в Мб,\n",
    "   - is_ultra — каким тарифом пользовался в течение месяца («Ультра» — 1, «Смарт» — 0)."
   ]
  },
  {
   "cell_type": "markdown",
   "metadata": {},
   "source": [
    "## 2. Разбейте данные на выборки"
   ]
  },
  {
   "cell_type": "code",
   "execution_count": 111,
   "metadata": {},
   "outputs": [],
   "source": [
    "users = pd.read_csv('/datasets/users_behavior.csv') # ниже знакомимся с данными таблицы"
   ]
  },
  {
   "cell_type": "code",
   "execution_count": 112,
   "metadata": {},
   "outputs": [
    {
     "name": "stdout",
     "output_type": "stream",
     "text": [
      "<class 'pandas.core.frame.DataFrame'>\n",
      "RangeIndex: 3214 entries, 0 to 3213\n",
      "Data columns (total 5 columns):\n",
      "calls       3214 non-null float64\n",
      "minutes     3214 non-null float64\n",
      "messages    3214 non-null float64\n",
      "mb_used     3214 non-null float64\n",
      "is_ultra    3214 non-null int64\n",
      "dtypes: float64(4), int64(1)\n",
      "memory usage: 125.7 KB\n"
     ]
    }
   ],
   "source": [
    "users.info()"
   ]
  },
  {
   "cell_type": "code",
   "execution_count": 113,
   "metadata": {},
   "outputs": [
    {
     "data": {
      "text/html": [
       "<div>\n",
       "<style scoped>\n",
       "    .dataframe tbody tr th:only-of-type {\n",
       "        vertical-align: middle;\n",
       "    }\n",
       "\n",
       "    .dataframe tbody tr th {\n",
       "        vertical-align: top;\n",
       "    }\n",
       "\n",
       "    .dataframe thead th {\n",
       "        text-align: right;\n",
       "    }\n",
       "</style>\n",
       "<table border=\"1\" class=\"dataframe\">\n",
       "  <thead>\n",
       "    <tr style=\"text-align: right;\">\n",
       "      <th></th>\n",
       "      <th>calls</th>\n",
       "      <th>minutes</th>\n",
       "      <th>messages</th>\n",
       "      <th>mb_used</th>\n",
       "      <th>is_ultra</th>\n",
       "    </tr>\n",
       "  </thead>\n",
       "  <tbody>\n",
       "    <tr>\n",
       "      <td>0</td>\n",
       "      <td>40.0</td>\n",
       "      <td>311.90</td>\n",
       "      <td>83.0</td>\n",
       "      <td>19915.42</td>\n",
       "      <td>0</td>\n",
       "    </tr>\n",
       "    <tr>\n",
       "      <td>1</td>\n",
       "      <td>85.0</td>\n",
       "      <td>516.75</td>\n",
       "      <td>56.0</td>\n",
       "      <td>22696.96</td>\n",
       "      <td>0</td>\n",
       "    </tr>\n",
       "    <tr>\n",
       "      <td>2</td>\n",
       "      <td>77.0</td>\n",
       "      <td>467.66</td>\n",
       "      <td>86.0</td>\n",
       "      <td>21060.45</td>\n",
       "      <td>0</td>\n",
       "    </tr>\n",
       "    <tr>\n",
       "      <td>3</td>\n",
       "      <td>106.0</td>\n",
       "      <td>745.53</td>\n",
       "      <td>81.0</td>\n",
       "      <td>8437.39</td>\n",
       "      <td>1</td>\n",
       "    </tr>\n",
       "    <tr>\n",
       "      <td>4</td>\n",
       "      <td>66.0</td>\n",
       "      <td>418.74</td>\n",
       "      <td>1.0</td>\n",
       "      <td>14502.75</td>\n",
       "      <td>0</td>\n",
       "    </tr>\n",
       "    <tr>\n",
       "      <td>5</td>\n",
       "      <td>58.0</td>\n",
       "      <td>344.56</td>\n",
       "      <td>21.0</td>\n",
       "      <td>15823.37</td>\n",
       "      <td>0</td>\n",
       "    </tr>\n",
       "    <tr>\n",
       "      <td>6</td>\n",
       "      <td>57.0</td>\n",
       "      <td>431.64</td>\n",
       "      <td>20.0</td>\n",
       "      <td>3738.90</td>\n",
       "      <td>1</td>\n",
       "    </tr>\n",
       "    <tr>\n",
       "      <td>7</td>\n",
       "      <td>15.0</td>\n",
       "      <td>132.40</td>\n",
       "      <td>6.0</td>\n",
       "      <td>21911.60</td>\n",
       "      <td>0</td>\n",
       "    </tr>\n",
       "    <tr>\n",
       "      <td>8</td>\n",
       "      <td>7.0</td>\n",
       "      <td>43.39</td>\n",
       "      <td>3.0</td>\n",
       "      <td>2538.67</td>\n",
       "      <td>1</td>\n",
       "    </tr>\n",
       "    <tr>\n",
       "      <td>9</td>\n",
       "      <td>90.0</td>\n",
       "      <td>665.41</td>\n",
       "      <td>38.0</td>\n",
       "      <td>17358.61</td>\n",
       "      <td>0</td>\n",
       "    </tr>\n",
       "    <tr>\n",
       "      <td>10</td>\n",
       "      <td>82.0</td>\n",
       "      <td>560.51</td>\n",
       "      <td>20.0</td>\n",
       "      <td>9619.53</td>\n",
       "      <td>1</td>\n",
       "    </tr>\n",
       "    <tr>\n",
       "      <td>11</td>\n",
       "      <td>45.0</td>\n",
       "      <td>344.32</td>\n",
       "      <td>13.0</td>\n",
       "      <td>19898.81</td>\n",
       "      <td>0</td>\n",
       "    </tr>\n",
       "    <tr>\n",
       "      <td>12</td>\n",
       "      <td>51.0</td>\n",
       "      <td>437.13</td>\n",
       "      <td>61.0</td>\n",
       "      <td>21523.58</td>\n",
       "      <td>0</td>\n",
       "    </tr>\n",
       "    <tr>\n",
       "      <td>13</td>\n",
       "      <td>56.0</td>\n",
       "      <td>433.07</td>\n",
       "      <td>16.0</td>\n",
       "      <td>16702.36</td>\n",
       "      <td>0</td>\n",
       "    </tr>\n",
       "    <tr>\n",
       "      <td>14</td>\n",
       "      <td>108.0</td>\n",
       "      <td>587.90</td>\n",
       "      <td>0.0</td>\n",
       "      <td>14406.50</td>\n",
       "      <td>1</td>\n",
       "    </tr>\n",
       "    <tr>\n",
       "      <td>15</td>\n",
       "      <td>6.0</td>\n",
       "      <td>22.13</td>\n",
       "      <td>0.0</td>\n",
       "      <td>2710.09</td>\n",
       "      <td>0</td>\n",
       "    </tr>\n",
       "    <tr>\n",
       "      <td>16</td>\n",
       "      <td>2.0</td>\n",
       "      <td>18.73</td>\n",
       "      <td>0.0</td>\n",
       "      <td>588.89</td>\n",
       "      <td>0</td>\n",
       "    </tr>\n",
       "    <tr>\n",
       "      <td>17</td>\n",
       "      <td>26.0</td>\n",
       "      <td>163.62</td>\n",
       "      <td>4.0</td>\n",
       "      <td>16870.34</td>\n",
       "      <td>0</td>\n",
       "    </tr>\n",
       "    <tr>\n",
       "      <td>18</td>\n",
       "      <td>79.0</td>\n",
       "      <td>532.62</td>\n",
       "      <td>90.0</td>\n",
       "      <td>19908.31</td>\n",
       "      <td>0</td>\n",
       "    </tr>\n",
       "    <tr>\n",
       "      <td>19</td>\n",
       "      <td>49.0</td>\n",
       "      <td>341.67</td>\n",
       "      <td>81.0</td>\n",
       "      <td>11770.28</td>\n",
       "      <td>1</td>\n",
       "    </tr>\n",
       "    <tr>\n",
       "      <td>20</td>\n",
       "      <td>93.0</td>\n",
       "      <td>691.37</td>\n",
       "      <td>31.0</td>\n",
       "      <td>25950.28</td>\n",
       "      <td>1</td>\n",
       "    </tr>\n",
       "    <tr>\n",
       "      <td>21</td>\n",
       "      <td>56.0</td>\n",
       "      <td>411.46</td>\n",
       "      <td>97.0</td>\n",
       "      <td>15393.91</td>\n",
       "      <td>0</td>\n",
       "    </tr>\n",
       "    <tr>\n",
       "      <td>22</td>\n",
       "      <td>48.0</td>\n",
       "      <td>351.60</td>\n",
       "      <td>66.0</td>\n",
       "      <td>16469.90</td>\n",
       "      <td>1</td>\n",
       "    </tr>\n",
       "    <tr>\n",
       "      <td>23</td>\n",
       "      <td>11.0</td>\n",
       "      <td>96.05</td>\n",
       "      <td>19.0</td>\n",
       "      <td>2305.74</td>\n",
       "      <td>0</td>\n",
       "    </tr>\n",
       "    <tr>\n",
       "      <td>24</td>\n",
       "      <td>56.0</td>\n",
       "      <td>360.30</td>\n",
       "      <td>30.0</td>\n",
       "      <td>13560.15</td>\n",
       "      <td>0</td>\n",
       "    </tr>\n",
       "    <tr>\n",
       "      <td>25</td>\n",
       "      <td>53.0</td>\n",
       "      <td>356.22</td>\n",
       "      <td>52.0</td>\n",
       "      <td>22471.77</td>\n",
       "      <td>0</td>\n",
       "    </tr>\n",
       "    <tr>\n",
       "      <td>26</td>\n",
       "      <td>81.0</td>\n",
       "      <td>624.71</td>\n",
       "      <td>38.0</td>\n",
       "      <td>8644.66</td>\n",
       "      <td>1</td>\n",
       "    </tr>\n",
       "    <tr>\n",
       "      <td>27</td>\n",
       "      <td>154.0</td>\n",
       "      <td>1078.64</td>\n",
       "      <td>48.0</td>\n",
       "      <td>29335.15</td>\n",
       "      <td>1</td>\n",
       "    </tr>\n",
       "    <tr>\n",
       "      <td>28</td>\n",
       "      <td>37.0</td>\n",
       "      <td>286.68</td>\n",
       "      <td>44.0</td>\n",
       "      <td>19542.45</td>\n",
       "      <td>0</td>\n",
       "    </tr>\n",
       "    <tr>\n",
       "      <td>29</td>\n",
       "      <td>50.0</td>\n",
       "      <td>358.01</td>\n",
       "      <td>44.0</td>\n",
       "      <td>9998.83</td>\n",
       "      <td>1</td>\n",
       "    </tr>\n",
       "    <tr>\n",
       "      <td>30</td>\n",
       "      <td>41.0</td>\n",
       "      <td>276.81</td>\n",
       "      <td>0.0</td>\n",
       "      <td>19815.62</td>\n",
       "      <td>0</td>\n",
       "    </tr>\n",
       "    <tr>\n",
       "      <td>31</td>\n",
       "      <td>10.0</td>\n",
       "      <td>77.09</td>\n",
       "      <td>31.0</td>\n",
       "      <td>643.15</td>\n",
       "      <td>0</td>\n",
       "    </tr>\n",
       "    <tr>\n",
       "      <td>32</td>\n",
       "      <td>71.0</td>\n",
       "      <td>530.13</td>\n",
       "      <td>27.0</td>\n",
       "      <td>20698.51</td>\n",
       "      <td>0</td>\n",
       "    </tr>\n",
       "    <tr>\n",
       "      <td>33</td>\n",
       "      <td>65.0</td>\n",
       "      <td>482.35</td>\n",
       "      <td>7.0</td>\n",
       "      <td>23064.58</td>\n",
       "      <td>1</td>\n",
       "    </tr>\n",
       "    <tr>\n",
       "      <td>34</td>\n",
       "      <td>110.0</td>\n",
       "      <td>776.85</td>\n",
       "      <td>9.0</td>\n",
       "      <td>20790.93</td>\n",
       "      <td>1</td>\n",
       "    </tr>\n",
       "    <tr>\n",
       "      <td>35</td>\n",
       "      <td>120.0</td>\n",
       "      <td>814.85</td>\n",
       "      <td>0.0</td>\n",
       "      <td>20427.00</td>\n",
       "      <td>1</td>\n",
       "    </tr>\n",
       "    <tr>\n",
       "      <td>36</td>\n",
       "      <td>76.0</td>\n",
       "      <td>543.18</td>\n",
       "      <td>43.0</td>\n",
       "      <td>31845.11</td>\n",
       "      <td>1</td>\n",
       "    </tr>\n",
       "    <tr>\n",
       "      <td>37</td>\n",
       "      <td>64.0</td>\n",
       "      <td>422.69</td>\n",
       "      <td>0.0</td>\n",
       "      <td>11460.29</td>\n",
       "      <td>0</td>\n",
       "    </tr>\n",
       "    <tr>\n",
       "      <td>38</td>\n",
       "      <td>23.0</td>\n",
       "      <td>146.18</td>\n",
       "      <td>33.0</td>\n",
       "      <td>9711.45</td>\n",
       "      <td>0</td>\n",
       "    </tr>\n",
       "    <tr>\n",
       "      <td>39</td>\n",
       "      <td>81.0</td>\n",
       "      <td>519.48</td>\n",
       "      <td>34.0</td>\n",
       "      <td>12750.82</td>\n",
       "      <td>0</td>\n",
       "    </tr>\n",
       "  </tbody>\n",
       "</table>\n",
       "</div>"
      ],
      "text/plain": [
       "    calls  minutes  messages   mb_used  is_ultra\n",
       "0    40.0   311.90      83.0  19915.42         0\n",
       "1    85.0   516.75      56.0  22696.96         0\n",
       "2    77.0   467.66      86.0  21060.45         0\n",
       "3   106.0   745.53      81.0   8437.39         1\n",
       "4    66.0   418.74       1.0  14502.75         0\n",
       "5    58.0   344.56      21.0  15823.37         0\n",
       "6    57.0   431.64      20.0   3738.90         1\n",
       "7    15.0   132.40       6.0  21911.60         0\n",
       "8     7.0    43.39       3.0   2538.67         1\n",
       "9    90.0   665.41      38.0  17358.61         0\n",
       "10   82.0   560.51      20.0   9619.53         1\n",
       "11   45.0   344.32      13.0  19898.81         0\n",
       "12   51.0   437.13      61.0  21523.58         0\n",
       "13   56.0   433.07      16.0  16702.36         0\n",
       "14  108.0   587.90       0.0  14406.50         1\n",
       "15    6.0    22.13       0.0   2710.09         0\n",
       "16    2.0    18.73       0.0    588.89         0\n",
       "17   26.0   163.62       4.0  16870.34         0\n",
       "18   79.0   532.62      90.0  19908.31         0\n",
       "19   49.0   341.67      81.0  11770.28         1\n",
       "20   93.0   691.37      31.0  25950.28         1\n",
       "21   56.0   411.46      97.0  15393.91         0\n",
       "22   48.0   351.60      66.0  16469.90         1\n",
       "23   11.0    96.05      19.0   2305.74         0\n",
       "24   56.0   360.30      30.0  13560.15         0\n",
       "25   53.0   356.22      52.0  22471.77         0\n",
       "26   81.0   624.71      38.0   8644.66         1\n",
       "27  154.0  1078.64      48.0  29335.15         1\n",
       "28   37.0   286.68      44.0  19542.45         0\n",
       "29   50.0   358.01      44.0   9998.83         1\n",
       "30   41.0   276.81       0.0  19815.62         0\n",
       "31   10.0    77.09      31.0    643.15         0\n",
       "32   71.0   530.13      27.0  20698.51         0\n",
       "33   65.0   482.35       7.0  23064.58         1\n",
       "34  110.0   776.85       9.0  20790.93         1\n",
       "35  120.0   814.85       0.0  20427.00         1\n",
       "36   76.0   543.18      43.0  31845.11         1\n",
       "37   64.0   422.69       0.0  11460.29         0\n",
       "38   23.0   146.18      33.0   9711.45         0\n",
       "39   81.0   519.48      34.0  12750.82         0"
      ]
     },
     "execution_count": 113,
     "metadata": {},
     "output_type": "execute_result"
    }
   ],
   "source": [
    "users.head(40)"
   ]
  },
  {
   "cell_type": "code",
   "execution_count": 114,
   "metadata": {},
   "outputs": [
    {
     "data": {
      "text/plain": [
       "(3214, 5)"
      ]
     },
     "execution_count": 114,
     "metadata": {},
     "output_type": "execute_result"
    }
   ],
   "source": [
    "users.shape"
   ]
  },
  {
   "cell_type": "markdown",
   "metadata": {},
   "source": [
    " Разделяем исходные данные на обучающую, валидационную и тестовую выборки в соотношении 3:1:1 за два этапа."
   ]
  },
  {
   "cell_type": "code",
   "execution_count": 115,
   "metadata": {},
   "outputs": [],
   "source": [
    "from sklearn.model_selection import train_test_split"
   ]
  },
  {
   "cell_type": "code",
   "execution_count": 116,
   "metadata": {},
   "outputs": [],
   "source": [
    "users_train, user_valid_test = train_test_split(users, test_size = 0.4, random_state = 12345)"
   ]
  },
  {
   "cell_type": "code",
   "execution_count": 117,
   "metadata": {},
   "outputs": [],
   "source": [
    "users_valid, users_test = train_test_split(user_valid_test, test_size = 0.5, random_state = 12345)"
   ]
  },
  {
   "cell_type": "code",
   "execution_count": 118,
   "metadata": {},
   "outputs": [
    {
     "name": "stdout",
     "output_type": "stream",
     "text": [
      "<class 'pandas.core.frame.DataFrame'>\n",
      "Int64Index: 1928 entries, 3027 to 482\n",
      "Data columns (total 5 columns):\n",
      "calls       1928 non-null float64\n",
      "minutes     1928 non-null float64\n",
      "messages    1928 non-null float64\n",
      "mb_used     1928 non-null float64\n",
      "is_ultra    1928 non-null int64\n",
      "dtypes: float64(4), int64(1)\n",
      "memory usage: 90.4 KB\n"
     ]
    }
   ],
   "source": [
    "users_train.info() # проверяем разбиение на наборы данных"
   ]
  },
  {
   "cell_type": "code",
   "execution_count": 119,
   "metadata": {},
   "outputs": [
    {
     "name": "stdout",
     "output_type": "stream",
     "text": [
      "<class 'pandas.core.frame.DataFrame'>\n",
      "Int64Index: 643 entries, 1386 to 3197\n",
      "Data columns (total 5 columns):\n",
      "calls       643 non-null float64\n",
      "minutes     643 non-null float64\n",
      "messages    643 non-null float64\n",
      "mb_used     643 non-null float64\n",
      "is_ultra    643 non-null int64\n",
      "dtypes: float64(4), int64(1)\n",
      "memory usage: 30.1 KB\n"
     ]
    }
   ],
   "source": [
    "users_valid.info()"
   ]
  },
  {
   "cell_type": "code",
   "execution_count": 120,
   "metadata": {},
   "outputs": [
    {
     "name": "stdout",
     "output_type": "stream",
     "text": [
      "<class 'pandas.core.frame.DataFrame'>\n",
      "Int64Index: 643 entries, 160 to 2313\n",
      "Data columns (total 5 columns):\n",
      "calls       643 non-null float64\n",
      "minutes     643 non-null float64\n",
      "messages    643 non-null float64\n",
      "mb_used     643 non-null float64\n",
      "is_ultra    643 non-null int64\n",
      "dtypes: float64(4), int64(1)\n",
      "memory usage: 30.1 KB\n"
     ]
    }
   ],
   "source": [
    "users_test.info()"
   ]
  },
  {
   "cell_type": "markdown",
   "metadata": {},
   "source": [
    "## 3. Исследуйте модели"
   ]
  },
  {
   "cell_type": "markdown",
   "metadata": {},
   "source": [
    "Исследуем качество разных моделей (классификация деревом решений, случайный лес и логистическая регрессия), меняя гиперпараметры."
   ]
  },
  {
   "cell_type": "code",
   "execution_count": 121,
   "metadata": {},
   "outputs": [],
   "source": [
    "features_train = users_train.drop(['is_ultra'], axis=1)\n",
    "target_train = users_train['is_ultra'] # целевой признак"
   ]
  },
  {
   "cell_type": "code",
   "execution_count": 122,
   "metadata": {},
   "outputs": [],
   "source": [
    "features_valid = users_valid.drop(['is_ultra'], axis=1)\n",
    "target_valid = users_valid['is_ultra']"
   ]
  },
  {
   "cell_type": "code",
   "execution_count": 123,
   "metadata": {},
   "outputs": [],
   "source": [
    "from sklearn.tree import DecisionTreeClassifier  # будем исследовать модель классификации деревом решений для разной максимальной глубины дерева"
   ]
  },
  {
   "cell_type": "code",
   "execution_count": 124,
   "metadata": {},
   "outputs": [],
   "source": [
    "from sklearn.metrics import accuracy_score"
   ]
  },
  {
   "cell_type": "code",
   "execution_count": 125,
   "metadata": {},
   "outputs": [],
   "source": [
    "import matplotlib.pyplot as plt"
   ]
  },
  {
   "cell_type": "code",
   "execution_count": 126,
   "metadata": {},
   "outputs": [],
   "source": [
    "model1_accuracy_valid = {}"
   ]
  },
  {
   "cell_type": "code",
   "execution_count": 127,
   "metadata": {},
   "outputs": [
    {
     "name": "stdout",
     "output_type": "stream",
     "text": [
      "max_depth = 1 :0.7542768273716952\n",
      "max_depth = 2 :0.7822706065318819\n",
      "max_depth = 3 :0.7853810264385692\n",
      "max_depth = 4 :0.7791601866251944\n",
      "max_depth = 5 :0.7791601866251944\n",
      "max_depth = 6 :0.7838258164852255\n",
      "max_depth = 7 :0.7822706065318819\n",
      "max_depth = 8 :0.7791601866251944\n",
      "max_depth = 9 :0.7822706065318819\n",
      "max_depth = 10 :0.7744945567651633\n",
      "max_depth = 11 :0.7620528771384136\n",
      "max_depth = 12 :0.7620528771384136\n",
      "max_depth = 13 :0.7558320373250389\n",
      "max_depth = 14 :0.7589424572317263\n",
      "max_depth = 15 :0.7465007776049767\n",
      "max_depth = 16 :0.7340590979782271\n",
      "max_depth = 17 :0.7356143079315708\n",
      "max_depth = 18 :0.7309486780715396\n",
      "max_depth = 19 :0.7278382581648523\n"
     ]
    }
   ],
   "source": [
    "for depth in range(1, 20): # проверяем модель на валидационной выборке\n",
    "    DecisionTree = []\n",
    "    model = DecisionTreeClassifier(random_state=12345, max_depth=depth)\n",
    "    model.fit(features_train, target_train)\n",
    "    predictions_valid = model.predict(features_valid)\n",
    "    print('max_depth =', depth, ':', end='')\n",
    "    print(accuracy_score(target_valid, predictions_valid)) \n",
    "    k1 = depth\n",
    "    model1_accuracy_valid[k1] = accuracy_score(target_valid, predictions_valid) \n",
    "#print(model1_accuracy_valid)"
   ]
  },
  {
   "cell_type": "code",
   "execution_count": 128,
   "metadata": {},
   "outputs": [],
   "source": [
    "model1_accuracy_train = {}"
   ]
  },
  {
   "cell_type": "code",
   "execution_count": 129,
   "metadata": {},
   "outputs": [
    {
     "name": "stdout",
     "output_type": "stream",
     "text": [
      "max_depth = 1 :0.7577800829875518\n",
      "max_depth = 2 :0.7878630705394191\n",
      "max_depth = 3 :0.8075726141078838\n",
      "max_depth = 4 :0.8106846473029046\n",
      "max_depth = 5 :0.8200207468879668\n",
      "max_depth = 6 :0.8376556016597511\n",
      "max_depth = 7 :0.8558091286307054\n",
      "max_depth = 8 :0.8625518672199171\n",
      "max_depth = 9 :0.8812240663900415\n",
      "max_depth = 10 :0.8890041493775933\n",
      "max_depth = 11 :0.9066390041493776\n",
      "max_depth = 12 :0.9253112033195021\n",
      "max_depth = 13 :0.941908713692946\n",
      "max_depth = 14 :0.9553941908713693\n",
      "max_depth = 15 :0.9678423236514523\n",
      "max_depth = 16 :0.9787344398340249\n",
      "max_depth = 17 :0.9844398340248963\n",
      "max_depth = 18 :0.9885892116182573\n",
      "max_depth = 19 :0.9891078838174274\n",
      "{1: 0.7577800829875518, 2: 0.7878630705394191, 3: 0.8075726141078838, 4: 0.8106846473029046, 5: 0.8200207468879668, 6: 0.8376556016597511, 7: 0.8558091286307054, 8: 0.8625518672199171, 9: 0.8812240663900415, 10: 0.8890041493775933, 11: 0.9066390041493776, 12: 0.9253112033195021, 13: 0.941908713692946, 14: 0.9553941908713693, 15: 0.9678423236514523, 16: 0.9787344398340249, 17: 0.9844398340248963, 18: 0.9885892116182573, 19: 0.9891078838174274}\n"
     ]
    }
   ],
   "source": [
    "for depth in range(1, 20): # поверяем модель на тренировочной выборке\n",
    "    model = DecisionTreeClassifier(random_state=12345, max_depth=depth)\n",
    "    model.fit(features_train, target_train)\n",
    "    predictions_train = model.predict(features_train)\n",
    "    print('max_depth =', depth, ':', end='')\n",
    "    print(accuracy_score(target_train, predictions_train))\n",
    "    k2 = depth\n",
    "    model1_accuracy_train[k2] = accuracy_score(target_train, predictions_train) \n",
    "print(model1_accuracy_train)"
   ]
  },
  {
   "cell_type": "code",
   "execution_count": 130,
   "metadata": {},
   "outputs": [
    {
     "data": {
      "text/plain": [
       "Text(0.5, 0, 'max depth')"
      ]
     },
     "execution_count": 130,
     "metadata": {},
     "output_type": "execute_result"
    },
    {
     "data": {
      "image/png": "[encoded data removed]",
      "text/plain": [
       "<Figure size 432x288 with 1 Axes>"
      ]
     },
     "metadata": {
      "needs_background": "light"
     },
     "output_type": "display_data"
    }
   ],
   "source": [
    "model1_accuracy_valid = pd.Series(model1_accuracy_valid)\n",
    "model1_accuracy_train = pd.Series(model1_accuracy_train)\n",
    "model1_acuracy = pd.DataFrame({'model1_accuracy_valid': model1_accuracy_valid, 'model1_accuracy_train': model1_accuracy_train})\n",
    "#print(model1_acuracy)\n",
    "model1_acuracy.plot()\n",
    "plt.ylabel('accurasy')\n",
    "plt.xlabel('max depth')"
   ]
  },
  {
   "cell_type": "markdown",
   "metadata": {},
   "source": [
    "При значениях максимальной глубины 3 и выше точность растет только на тренировочной выборке, а на валидационной начинает падать. Можно сделать вывод, что тут модель начинает переобучаться."
   ]
  },
  {
   "cell_type": "code",
   "execution_count": 138,
   "metadata": {},
   "outputs": [],
   "source": [
    "from sklearn.ensemble import RandomForestClassifier # будем исследовать модель случайного леса для разного количества деревьев"
   ]
  },
  {
   "cell_type": "code",
   "execution_count": 139,
   "metadata": {},
   "outputs": [],
   "source": [
    "model2_accuracy_valid = {}"
   ]
  },
  {
   "cell_type": "code",
   "execution_count": 140,
   "metadata": {},
   "outputs": [
    {
     "name": "stdout",
     "output_type": "stream",
     "text": [
      "n_estimators = 2 : 0.7278382581648523\n",
      "n_estimators = 12 : 0.7278382581648523\n",
      "n_estimators = 22 : 0.7278382581648523\n",
      "n_estimators = 32 : 0.7278382581648523\n",
      "n_estimators = 42 : 0.7278382581648523\n",
      "n_estimators = 52 : 0.7278382581648523\n",
      "n_estimators = 62 : 0.7278382581648523\n",
      "n_estimators = 72 : 0.7278382581648523\n",
      "n_estimators = 82 : 0.7278382581648523\n",
      "n_estimators = 92 : 0.7278382581648523\n",
      "{2: 0.7278382581648523, 12: 0.7278382581648523, 22: 0.7278382581648523, 32: 0.7278382581648523, 42: 0.7278382581648523, 52: 0.7278382581648523, 62: 0.7278382581648523, 72: 0.7278382581648523, 82: 0.7278382581648523, 92: 0.7278382581648523}\n"
     ]
    }
   ],
   "source": [
    "for estim in range(2, 102, 10): # проверяем модель на валидационной выборке\n",
    "    model = RandomForestClassifier(n_estimators=estim, random_state=12345)\n",
    "    model.fit(features_train, target_train)\n",
    "    predicted_valid = model.predict(features_valid)\n",
    "    accuracy = accuracy_score(target_valid, predictions_valid)\n",
    "    print(\"n_estimators =\", estim, \":\", accuracy)\n",
    "    k3 = estim\n",
    "    model2_accuracy_valid[k3] = accuracy_score(target_valid, predictions_valid) \n",
    "print(model2_accuracy_valid)"
   ]
  },
  {
   "cell_type": "code",
   "execution_count": 142,
   "metadata": {},
   "outputs": [],
   "source": [
    "model2_accuracy_train = {}"
   ]
  },
  {
   "cell_type": "code",
   "execution_count": 143,
   "metadata": {},
   "outputs": [
    {
     "name": "stdout",
     "output_type": "stream",
     "text": [
      "n_estimators = 2 : 0.9891078838174274\n",
      "n_estimators = 12 : 0.9891078838174274\n",
      "n_estimators = 22 : 0.9891078838174274\n",
      "n_estimators = 32 : 0.9891078838174274\n",
      "n_estimators = 42 : 0.9891078838174274\n",
      "n_estimators = 52 : 0.9891078838174274\n",
      "n_estimators = 62 : 0.9891078838174274\n",
      "n_estimators = 72 : 0.9891078838174274\n",
      "n_estimators = 82 : 0.9891078838174274\n",
      "n_estimators = 92 : 0.9891078838174274\n",
      "{2: 0.9891078838174274, 12: 0.9891078838174274, 22: 0.9891078838174274, 32: 0.9891078838174274, 42: 0.9891078838174274, 52: 0.9891078838174274, 62: 0.9891078838174274, 72: 0.9891078838174274, 82: 0.9891078838174274, 92: 0.9891078838174274}\n"
     ]
    }
   ],
   "source": [
    "for estim in range(2, 102, 10): # проверяем модель на тренировочной выборке\n",
    "    model = RandomForestClassifier(n_estimators=estim, random_state=12345)\n",
    "    model.fit(features_train, target_train)\n",
    "    predicted_train = model.predict(features_train)\n",
    "    accuracy = accuracy_score(target_train, predictions_train)\n",
    "    print(\"n_estimators =\", estim, \":\", accuracy)\n",
    "    k4 = estim\n",
    "    model2_accuracy_train[k4] = accuracy_score(target_train, predictions_train)\n",
    "print(model2_accuracy_train)"
   ]
  },
  {
   "cell_type": "code",
   "execution_count": 147,
   "metadata": {},
   "outputs": [
    {
     "data": {
      "text/plain": [
       "Text(0.5, 0, 'n_estimators')"
      ]
     },
     "execution_count": 147,
     "metadata": {},
     "output_type": "execute_result"
    },
    {
     "data": {
      "image/png": "[encoded data removed]",
      "text/plain": [
       "<Figure size 432x288 with 1 Axes>"
      ]
     },
     "metadata": {
      "needs_background": "light"
     },
     "output_type": "display_data"
    }
   ],
   "source": [
    "model2_accuracy_valid = pd.Series(model2_accuracy_valid)\n",
    "model2_accuracy_train = pd.Series(model2_accuracy_train)\n",
    "model2_acuracy = pd.DataFrame({'model2_accuracy_valid': model2_accuracy_valid, 'model2_accuracy_train': model2_accuracy_train})\n",
    "#print(model2_acuracy)\n",
    "model2_acuracy.plot()\n",
    "plt.ylabel('accurasy')\n",
    "plt.xlabel('n_estimators')"
   ]
  },
  {
   "cell_type": "markdown",
   "metadata": {},
   "source": [
    "Точность на тренировочной выборке выше, чем на валидационной - модель переобучена."
   ]
  },
  {
   "cell_type": "code",
   "execution_count": 148,
   "metadata": {},
   "outputs": [],
   "source": [
    "from sklearn.linear_model import LogisticRegression # будем исследовать модель логистической регрессии"
   ]
  },
  {
   "cell_type": "code",
   "execution_count": 149,
   "metadata": {},
   "outputs": [],
   "source": [
    "# отключим предупреждения \n",
    "#import warnings\n",
    "#warnings.simplefilter('ignore')"
   ]
  },
  {
   "cell_type": "code",
   "execution_count": 150,
   "metadata": {},
   "outputs": [
    {
     "name": "stdout",
     "output_type": "stream",
     "text": [
      "0.7278382581648523\n"
     ]
    },
    {
     "name": "stderr",
     "output_type": "stream",
     "text": [
      "/opt/conda/lib/python3.7/site-packages/sklearn/linear_model/logistic.py:432: FutureWarning: Default solver will be changed to 'lbfgs' in 0.22. Specify a solver to silence this warning.\n",
      "  FutureWarning)\n"
     ]
    }
   ],
   "source": [
    "model = LogisticRegression(random_state=12345)\n",
    "model.fit(features_train, target_train)\n",
    "predicted_valid = model.predict(features_valid)\n",
    "print(accuracy_score(target_valid, predictions_valid))"
   ]
  },
  {
   "cell_type": "markdown",
   "metadata": {},
   "source": [
    "## Выводы по моделям\n",
    "\n",
    "1. классификация деревом решений\n",
    "    Для данной модели изменяли максимальную глубину в диапазоне значений от 1 до 20.\n",
    "    По полученным данным accuracy легко просматривается, что после значение 10 его значение начинает уменьшаться, соответвенно, ищем наилучший результат до 10. В нашем случае лучшее значение - 0.7854 при максимальной глубине 3.\n",
    "2. случайный лес \n",
    "    Для данной модели проверяли значения accuracy для гиперпараметра n_estimators в диапазоне от 2 до 102 с шагом 10, все значения были одинаковы 0.7278, т.е. влияния не оказывалось (проверяди и более узкие диапазоны, там тоже прироста не выходило)\n",
    "3. логистическая регрессия\n",
    "    В данной модели настройку гиперпараметров не делали, поучили одно значение точности 0.7278.\n",
    "    \n",
    "Итого имеем самую высокую долю правильных ответов для модели классификация деревом решений с максимальной глубиной 3 (0.7854)."
   ]
  },
  {
   "cell_type": "markdown",
   "metadata": {},
   "source": [
    "## 4. Проверьте модель на тестовой выборке"
   ]
  },
  {
   "cell_type": "code",
   "execution_count": 151,
   "metadata": {},
   "outputs": [],
   "source": [
    "features_test = users_test.drop(['is_ultra'], axis=1)\n",
    "target_test = users_test['is_ultra']"
   ]
  },
  {
   "cell_type": "code",
   "execution_count": 152,
   "metadata": {},
   "outputs": [
    {
     "name": "stdout",
     "output_type": "stream",
     "text": [
      "accuracy = 0.7993779160186625\n"
     ]
    }
   ],
   "source": [
    "model = DecisionTreeClassifier(random_state=12345, max_depth=3)\n",
    "model.fit(features_test, target_test)\n",
    "predictions_test = model.predict(features_test)\n",
    "print('accuracy =', accuracy_score(target_test, predictions_test))"
   ]
  },
  {
   "cell_type": "markdown",
   "metadata": {},
   "source": [
    "Провели тестирование модели на тестовой выборке.\n",
    "Удалось достичь accuracy не меньше 0.75"
   ]
  },
  {
   "cell_type": "markdown",
   "metadata": {},
   "source": [
    "## 5. (бонус) Проверьте модели на адекватность"
   ]
  },
  {
   "cell_type": "code",
   "execution_count": 153,
   "metadata": {},
   "outputs": [
    {
     "name": "stdout",
     "output_type": "stream",
     "text": [
      "985\n"
     ]
    }
   ],
   "source": [
    "print(users.loc[users['is_ultra'] == 1]['is_ultra'].count()) # посчитали количество абонентов тарифа ультра"
   ]
  },
  {
   "cell_type": "code",
   "execution_count": 154,
   "metadata": {},
   "outputs": [
    {
     "name": "stdout",
     "output_type": "stream",
     "text": [
      "0.693528313627878\n"
     ]
    }
   ],
   "source": [
    "print(1 - 985 / len(users)) # считаем долю большего класса "
   ]
  },
  {
   "cell_type": "markdown",
   "metadata": {},
   "source": [
    "В нашей выборке классы не сбалансированы (0.69 и 0.31).\n",
    "Если же классы не сбалансированные, то адекватная модель должна выдавать качество больше, чем доля большего класса. \n",
    "На тестовой выборке мы получили значение accuracy 0.7994 > 0.6935 (доля большего класса).\n",
    "\n",
    "Соответсвенно, модель классификации  деревом решений с максимальной глубиной 3 адекватная.\n",
    "\n",
    "Если говорить о моделях случайный лес и логистическая регрессия, то они тоже могут считаться адекватными, т.к. показывают accuracy > 0.69.\n",
    "Но для нас задана минимальная accuracy 0.75, поэтому их мы отклонили."
   ]
  },
  {
   "cell_type": "code",
   "execution_count": null,
   "metadata": {},
   "outputs": [],
   "source": []
  }
 ],
 "metadata": {
  "kernelspec": {
   "display_name": "Python 3",
   "language": "python",
   "name": "python3"
  },
  "language_info": {
   "codemirror_mode": {
    "name": "ipython",
    "version": 3
   },
   "file_extension": ".py",
   "mimetype": "text/x-python",
   "name": "python",
   "nbconvert_exporter": "python",
   "pygments_lexer": "ipython3",
   "version": "3.7.4"
  }
 },
 "nbformat": 4,
 "nbformat_minor": 2
}
