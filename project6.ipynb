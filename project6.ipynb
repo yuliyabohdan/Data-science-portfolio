{
 "cells": [
  {
   "cell_type": "markdown",
   "metadata": {},
   "source": [
    "# Отток клиентов"
   ]
  },
  {
   "cell_type": "markdown",
   "metadata": {},
   "source": [
    "Из «Бета-Банка» стали уходить клиенты. Каждый месяц. Немного, но заметно. Банковские маркетологи посчитали: сохранять текущих клиентов дешевле, чем привлекать новых.\n",
    "\n",
    "Нужно спрогнозировать, уйдёт клиент из банка в ближайшее время или нет. Вам предоставлены исторические данные о поведении клиентов и расторжении договоров с банком. \n",
    "\n",
    "Постройте модель с предельно большим значением *F1*-меры. Чтобы сдать проект успешно, нужно довести метрику до 0.59. Проверьте *F1*-меру на тестовой выборке самостоятельно.\n",
    "\n",
    "Дополнительно измеряйте *AUC-ROC*, сравнивайте её значение с *F1*-мерой.\n",
    "\n",
    "Источник данных: [https://www.kaggle.com/barelydedicated/bank-customer-churn-modeling](https://www.kaggle.com/barelydedicated/bank-customer-churn-modeling)"
   ]
  },
  {
   "cell_type": "markdown",
   "metadata": {},
   "source": [
    "# 1. Подготовка данных"
   ]
  },
  {
   "cell_type": "code",
   "execution_count": 1,
   "metadata": {},
   "outputs": [],
   "source": [
    "import pandas as pd"
   ]
  },
  {
   "cell_type": "code",
   "execution_count": 2,
   "metadata": {},
   "outputs": [],
   "source": [
    "import numpy as np"
   ]
  },
  {
   "cell_type": "code",
   "execution_count": 3,
   "metadata": {},
   "outputs": [],
   "source": [
    "import warnings\n",
    "warnings.filterwarnings('ignore')"
   ]
  },
  {
   "cell_type": "code",
   "execution_count": 4,
   "metadata": {},
   "outputs": [],
   "source": [
    "from sklearn.preprocessing import StandardScaler"
   ]
  },
  {
   "cell_type": "code",
   "execution_count": 5,
   "metadata": {},
   "outputs": [],
   "source": [
    "from sklearn.model_selection import train_test_split"
   ]
  },
  {
   "cell_type": "code",
   "execution_count": 6,
   "metadata": {},
   "outputs": [],
   "source": [
    "from sklearn.tree import DecisionTreeClassifier"
   ]
  },
  {
   "cell_type": "code",
   "execution_count": 7,
   "metadata": {},
   "outputs": [],
   "source": [
    "from sklearn.ensemble import RandomForestClassifier"
   ]
  },
  {
   "cell_type": "code",
   "execution_count": 8,
   "metadata": {},
   "outputs": [],
   "source": [
    "from sklearn.linear_model import LogisticRegression"
   ]
  },
  {
   "cell_type": "code",
   "execution_count": 9,
   "metadata": {},
   "outputs": [],
   "source": [
    "from sklearn.metrics import f1_score"
   ]
  },
  {
   "cell_type": "code",
   "execution_count": 10,
   "metadata": {},
   "outputs": [],
   "source": [
    "import matplotlib.pyplot as plt"
   ]
  },
  {
   "cell_type": "code",
   "execution_count": 11,
   "metadata": {},
   "outputs": [],
   "source": [
    "from sklearn.utils import shuffle"
   ]
  },
  {
   "cell_type": "code",
   "execution_count": 12,
   "metadata": {},
   "outputs": [],
   "source": [
    "from sklearn.metrics import precision_score, recall_score"
   ]
  },
  {
   "cell_type": "code",
   "execution_count": 13,
   "metadata": {},
   "outputs": [],
   "source": [
    "from sklearn.metrics import roc_auc_score"
   ]
  },
  {
   "cell_type": "code",
   "execution_count": 14,
   "metadata": {},
   "outputs": [],
   "source": [
    "clients = pd.read_csv('/datasets/Churn.csv')"
   ]
  },
  {
   "cell_type": "markdown",
   "metadata": {},
   "source": [
    "# Признаки\n",
    "    RowNumber — индекс строки в данных\n",
    "    CustomerId — уникальный идентификатор клиента\n",
    "    Surname — фамилия\n",
    "    CreditScore — кредитный рейтинг\n",
    "    Geography — страна проживания\n",
    "    Gender — пол\n",
    "    Age — возраст\n",
    "    Tenure — количество недвижимости у клиента\n",
    "    Balance — баланс на счёте\n",
    "    NumOfProducts — количество продуктов банка, используемых клиентом\n",
    "    HasCrCard — наличие кредитной карты\n",
    "    IsActiveMember — активность клиента\n",
    "    EstimatedSalary — предполагаемая зарплата\n",
    "# Целевой признак\n",
    "    Exited — факт ухода клиента"
   ]
  },
  {
   "cell_type": "code",
   "execution_count": 15,
   "metadata": {},
   "outputs": [
    {
     "name": "stdout",
     "output_type": "stream",
     "text": [
      "<class 'pandas.core.frame.DataFrame'>\n",
      "RangeIndex: 10000 entries, 0 to 9999\n",
      "Data columns (total 14 columns):\n",
      "RowNumber          10000 non-null int64\n",
      "CustomerId         10000 non-null int64\n",
      "Surname            10000 non-null object\n",
      "CreditScore        10000 non-null int64\n",
      "Geography          10000 non-null object\n",
      "Gender             10000 non-null object\n",
      "Age                10000 non-null int64\n",
      "Tenure             9091 non-null float64\n",
      "Balance            10000 non-null float64\n",
      "NumOfProducts      10000 non-null int64\n",
      "HasCrCard          10000 non-null int64\n",
      "IsActiveMember     10000 non-null int64\n",
      "EstimatedSalary    10000 non-null float64\n",
      "Exited             10000 non-null int64\n",
      "dtypes: float64(3), int64(8), object(3)\n",
      "memory usage: 1.1+ MB\n"
     ]
    }
   ],
   "source": [
    "clients.info()"
   ]
  },
  {
   "cell_type": "code",
   "execution_count": 16,
   "metadata": {},
   "outputs": [
    {
     "data": {
      "text/html": [
       "<div>\n",
       "<style scoped>\n",
       "    .dataframe tbody tr th:only-of-type {\n",
       "        vertical-align: middle;\n",
       "    }\n",
       "\n",
       "    .dataframe tbody tr th {\n",
       "        vertical-align: top;\n",
       "    }\n",
       "\n",
       "    .dataframe thead th {\n",
       "        text-align: right;\n",
       "    }\n",
       "</style>\n",
       "<table border=\"1\" class=\"dataframe\">\n",
       "  <thead>\n",
       "    <tr style=\"text-align: right;\">\n",
       "      <th></th>\n",
       "      <th>RowNumber</th>\n",
       "      <th>CustomerId</th>\n",
       "      <th>Surname</th>\n",
       "      <th>CreditScore</th>\n",
       "      <th>Geography</th>\n",
       "      <th>Gender</th>\n",
       "      <th>Age</th>\n",
       "      <th>Tenure</th>\n",
       "      <th>Balance</th>\n",
       "      <th>NumOfProducts</th>\n",
       "      <th>HasCrCard</th>\n",
       "      <th>IsActiveMember</th>\n",
       "      <th>EstimatedSalary</th>\n",
       "      <th>Exited</th>\n",
       "    </tr>\n",
       "  </thead>\n",
       "  <tbody>\n",
       "    <tr>\n",
       "      <td>0</td>\n",
       "      <td>1</td>\n",
       "      <td>15634602</td>\n",
       "      <td>Hargrave</td>\n",
       "      <td>619</td>\n",
       "      <td>France</td>\n",
       "      <td>Female</td>\n",
       "      <td>42</td>\n",
       "      <td>2.0</td>\n",
       "      <td>0.00</td>\n",
       "      <td>1</td>\n",
       "      <td>1</td>\n",
       "      <td>1</td>\n",
       "      <td>101348.88</td>\n",
       "      <td>1</td>\n",
       "    </tr>\n",
       "    <tr>\n",
       "      <td>1</td>\n",
       "      <td>2</td>\n",
       "      <td>15647311</td>\n",
       "      <td>Hill</td>\n",
       "      <td>608</td>\n",
       "      <td>Spain</td>\n",
       "      <td>Female</td>\n",
       "      <td>41</td>\n",
       "      <td>1.0</td>\n",
       "      <td>83807.86</td>\n",
       "      <td>1</td>\n",
       "      <td>0</td>\n",
       "      <td>1</td>\n",
       "      <td>112542.58</td>\n",
       "      <td>0</td>\n",
       "    </tr>\n",
       "    <tr>\n",
       "      <td>2</td>\n",
       "      <td>3</td>\n",
       "      <td>15619304</td>\n",
       "      <td>Onio</td>\n",
       "      <td>502</td>\n",
       "      <td>France</td>\n",
       "      <td>Female</td>\n",
       "      <td>42</td>\n",
       "      <td>8.0</td>\n",
       "      <td>159660.80</td>\n",
       "      <td>3</td>\n",
       "      <td>1</td>\n",
       "      <td>0</td>\n",
       "      <td>113931.57</td>\n",
       "      <td>1</td>\n",
       "    </tr>\n",
       "    <tr>\n",
       "      <td>3</td>\n",
       "      <td>4</td>\n",
       "      <td>15701354</td>\n",
       "      <td>Boni</td>\n",
       "      <td>699</td>\n",
       "      <td>France</td>\n",
       "      <td>Female</td>\n",
       "      <td>39</td>\n",
       "      <td>1.0</td>\n",
       "      <td>0.00</td>\n",
       "      <td>2</td>\n",
       "      <td>0</td>\n",
       "      <td>0</td>\n",
       "      <td>93826.63</td>\n",
       "      <td>0</td>\n",
       "    </tr>\n",
       "    <tr>\n",
       "      <td>4</td>\n",
       "      <td>5</td>\n",
       "      <td>15737888</td>\n",
       "      <td>Mitchell</td>\n",
       "      <td>850</td>\n",
       "      <td>Spain</td>\n",
       "      <td>Female</td>\n",
       "      <td>43</td>\n",
       "      <td>2.0</td>\n",
       "      <td>125510.82</td>\n",
       "      <td>1</td>\n",
       "      <td>1</td>\n",
       "      <td>1</td>\n",
       "      <td>79084.10</td>\n",
       "      <td>0</td>\n",
       "    </tr>\n",
       "    <tr>\n",
       "      <td>5</td>\n",
       "      <td>6</td>\n",
       "      <td>15574012</td>\n",
       "      <td>Chu</td>\n",
       "      <td>645</td>\n",
       "      <td>Spain</td>\n",
       "      <td>Male</td>\n",
       "      <td>44</td>\n",
       "      <td>8.0</td>\n",
       "      <td>113755.78</td>\n",
       "      <td>2</td>\n",
       "      <td>1</td>\n",
       "      <td>0</td>\n",
       "      <td>149756.71</td>\n",
       "      <td>1</td>\n",
       "    </tr>\n",
       "    <tr>\n",
       "      <td>6</td>\n",
       "      <td>7</td>\n",
       "      <td>15592531</td>\n",
       "      <td>Bartlett</td>\n",
       "      <td>822</td>\n",
       "      <td>France</td>\n",
       "      <td>Male</td>\n",
       "      <td>50</td>\n",
       "      <td>7.0</td>\n",
       "      <td>0.00</td>\n",
       "      <td>2</td>\n",
       "      <td>1</td>\n",
       "      <td>1</td>\n",
       "      <td>10062.80</td>\n",
       "      <td>0</td>\n",
       "    </tr>\n",
       "    <tr>\n",
       "      <td>7</td>\n",
       "      <td>8</td>\n",
       "      <td>15656148</td>\n",
       "      <td>Obinna</td>\n",
       "      <td>376</td>\n",
       "      <td>Germany</td>\n",
       "      <td>Female</td>\n",
       "      <td>29</td>\n",
       "      <td>4.0</td>\n",
       "      <td>115046.74</td>\n",
       "      <td>4</td>\n",
       "      <td>1</td>\n",
       "      <td>0</td>\n",
       "      <td>119346.88</td>\n",
       "      <td>1</td>\n",
       "    </tr>\n",
       "    <tr>\n",
       "      <td>8</td>\n",
       "      <td>9</td>\n",
       "      <td>15792365</td>\n",
       "      <td>He</td>\n",
       "      <td>501</td>\n",
       "      <td>France</td>\n",
       "      <td>Male</td>\n",
       "      <td>44</td>\n",
       "      <td>4.0</td>\n",
       "      <td>142051.07</td>\n",
       "      <td>2</td>\n",
       "      <td>0</td>\n",
       "      <td>1</td>\n",
       "      <td>74940.50</td>\n",
       "      <td>0</td>\n",
       "    </tr>\n",
       "    <tr>\n",
       "      <td>9</td>\n",
       "      <td>10</td>\n",
       "      <td>15592389</td>\n",
       "      <td>H?</td>\n",
       "      <td>684</td>\n",
       "      <td>France</td>\n",
       "      <td>Male</td>\n",
       "      <td>27</td>\n",
       "      <td>2.0</td>\n",
       "      <td>134603.88</td>\n",
       "      <td>1</td>\n",
       "      <td>1</td>\n",
       "      <td>1</td>\n",
       "      <td>71725.73</td>\n",
       "      <td>0</td>\n",
       "    </tr>\n",
       "    <tr>\n",
       "      <td>10</td>\n",
       "      <td>11</td>\n",
       "      <td>15767821</td>\n",
       "      <td>Bearce</td>\n",
       "      <td>528</td>\n",
       "      <td>France</td>\n",
       "      <td>Male</td>\n",
       "      <td>31</td>\n",
       "      <td>6.0</td>\n",
       "      <td>102016.72</td>\n",
       "      <td>2</td>\n",
       "      <td>0</td>\n",
       "      <td>0</td>\n",
       "      <td>80181.12</td>\n",
       "      <td>0</td>\n",
       "    </tr>\n",
       "    <tr>\n",
       "      <td>11</td>\n",
       "      <td>12</td>\n",
       "      <td>15737173</td>\n",
       "      <td>Andrews</td>\n",
       "      <td>497</td>\n",
       "      <td>Spain</td>\n",
       "      <td>Male</td>\n",
       "      <td>24</td>\n",
       "      <td>3.0</td>\n",
       "      <td>0.00</td>\n",
       "      <td>2</td>\n",
       "      <td>1</td>\n",
       "      <td>0</td>\n",
       "      <td>76390.01</td>\n",
       "      <td>0</td>\n",
       "    </tr>\n",
       "    <tr>\n",
       "      <td>12</td>\n",
       "      <td>13</td>\n",
       "      <td>15632264</td>\n",
       "      <td>Kay</td>\n",
       "      <td>476</td>\n",
       "      <td>France</td>\n",
       "      <td>Female</td>\n",
       "      <td>34</td>\n",
       "      <td>10.0</td>\n",
       "      <td>0.00</td>\n",
       "      <td>2</td>\n",
       "      <td>1</td>\n",
       "      <td>0</td>\n",
       "      <td>26260.98</td>\n",
       "      <td>0</td>\n",
       "    </tr>\n",
       "    <tr>\n",
       "      <td>13</td>\n",
       "      <td>14</td>\n",
       "      <td>15691483</td>\n",
       "      <td>Chin</td>\n",
       "      <td>549</td>\n",
       "      <td>France</td>\n",
       "      <td>Female</td>\n",
       "      <td>25</td>\n",
       "      <td>5.0</td>\n",
       "      <td>0.00</td>\n",
       "      <td>2</td>\n",
       "      <td>0</td>\n",
       "      <td>0</td>\n",
       "      <td>190857.79</td>\n",
       "      <td>0</td>\n",
       "    </tr>\n",
       "    <tr>\n",
       "      <td>14</td>\n",
       "      <td>15</td>\n",
       "      <td>15600882</td>\n",
       "      <td>Scott</td>\n",
       "      <td>635</td>\n",
       "      <td>Spain</td>\n",
       "      <td>Female</td>\n",
       "      <td>35</td>\n",
       "      <td>7.0</td>\n",
       "      <td>0.00</td>\n",
       "      <td>2</td>\n",
       "      <td>1</td>\n",
       "      <td>1</td>\n",
       "      <td>65951.65</td>\n",
       "      <td>0</td>\n",
       "    </tr>\n",
       "    <tr>\n",
       "      <td>15</td>\n",
       "      <td>16</td>\n",
       "      <td>15643966</td>\n",
       "      <td>Goforth</td>\n",
       "      <td>616</td>\n",
       "      <td>Germany</td>\n",
       "      <td>Male</td>\n",
       "      <td>45</td>\n",
       "      <td>3.0</td>\n",
       "      <td>143129.41</td>\n",
       "      <td>2</td>\n",
       "      <td>0</td>\n",
       "      <td>1</td>\n",
       "      <td>64327.26</td>\n",
       "      <td>0</td>\n",
       "    </tr>\n",
       "    <tr>\n",
       "      <td>16</td>\n",
       "      <td>17</td>\n",
       "      <td>15737452</td>\n",
       "      <td>Romeo</td>\n",
       "      <td>653</td>\n",
       "      <td>Germany</td>\n",
       "      <td>Male</td>\n",
       "      <td>58</td>\n",
       "      <td>1.0</td>\n",
       "      <td>132602.88</td>\n",
       "      <td>1</td>\n",
       "      <td>1</td>\n",
       "      <td>0</td>\n",
       "      <td>5097.67</td>\n",
       "      <td>1</td>\n",
       "    </tr>\n",
       "    <tr>\n",
       "      <td>17</td>\n",
       "      <td>18</td>\n",
       "      <td>15788218</td>\n",
       "      <td>Henderson</td>\n",
       "      <td>549</td>\n",
       "      <td>Spain</td>\n",
       "      <td>Female</td>\n",
       "      <td>24</td>\n",
       "      <td>9.0</td>\n",
       "      <td>0.00</td>\n",
       "      <td>2</td>\n",
       "      <td>1</td>\n",
       "      <td>1</td>\n",
       "      <td>14406.41</td>\n",
       "      <td>0</td>\n",
       "    </tr>\n",
       "    <tr>\n",
       "      <td>18</td>\n",
       "      <td>19</td>\n",
       "      <td>15661507</td>\n",
       "      <td>Muldrow</td>\n",
       "      <td>587</td>\n",
       "      <td>Spain</td>\n",
       "      <td>Male</td>\n",
       "      <td>45</td>\n",
       "      <td>6.0</td>\n",
       "      <td>0.00</td>\n",
       "      <td>1</td>\n",
       "      <td>0</td>\n",
       "      <td>0</td>\n",
       "      <td>158684.81</td>\n",
       "      <td>0</td>\n",
       "    </tr>\n",
       "    <tr>\n",
       "      <td>19</td>\n",
       "      <td>20</td>\n",
       "      <td>15568982</td>\n",
       "      <td>Hao</td>\n",
       "      <td>726</td>\n",
       "      <td>France</td>\n",
       "      <td>Female</td>\n",
       "      <td>24</td>\n",
       "      <td>6.0</td>\n",
       "      <td>0.00</td>\n",
       "      <td>2</td>\n",
       "      <td>1</td>\n",
       "      <td>1</td>\n",
       "      <td>54724.03</td>\n",
       "      <td>0</td>\n",
       "    </tr>\n",
       "    <tr>\n",
       "      <td>20</td>\n",
       "      <td>21</td>\n",
       "      <td>15577657</td>\n",
       "      <td>McDonald</td>\n",
       "      <td>732</td>\n",
       "      <td>France</td>\n",
       "      <td>Male</td>\n",
       "      <td>41</td>\n",
       "      <td>8.0</td>\n",
       "      <td>0.00</td>\n",
       "      <td>2</td>\n",
       "      <td>1</td>\n",
       "      <td>1</td>\n",
       "      <td>170886.17</td>\n",
       "      <td>0</td>\n",
       "    </tr>\n",
       "    <tr>\n",
       "      <td>21</td>\n",
       "      <td>22</td>\n",
       "      <td>15597945</td>\n",
       "      <td>Dellucci</td>\n",
       "      <td>636</td>\n",
       "      <td>Spain</td>\n",
       "      <td>Female</td>\n",
       "      <td>32</td>\n",
       "      <td>8.0</td>\n",
       "      <td>0.00</td>\n",
       "      <td>2</td>\n",
       "      <td>1</td>\n",
       "      <td>0</td>\n",
       "      <td>138555.46</td>\n",
       "      <td>0</td>\n",
       "    </tr>\n",
       "    <tr>\n",
       "      <td>22</td>\n",
       "      <td>23</td>\n",
       "      <td>15699309</td>\n",
       "      <td>Gerasimov</td>\n",
       "      <td>510</td>\n",
       "      <td>Spain</td>\n",
       "      <td>Female</td>\n",
       "      <td>38</td>\n",
       "      <td>4.0</td>\n",
       "      <td>0.00</td>\n",
       "      <td>1</td>\n",
       "      <td>1</td>\n",
       "      <td>0</td>\n",
       "      <td>118913.53</td>\n",
       "      <td>1</td>\n",
       "    </tr>\n",
       "    <tr>\n",
       "      <td>23</td>\n",
       "      <td>24</td>\n",
       "      <td>15725737</td>\n",
       "      <td>Mosman</td>\n",
       "      <td>669</td>\n",
       "      <td>France</td>\n",
       "      <td>Male</td>\n",
       "      <td>46</td>\n",
       "      <td>3.0</td>\n",
       "      <td>0.00</td>\n",
       "      <td>2</td>\n",
       "      <td>0</td>\n",
       "      <td>1</td>\n",
       "      <td>8487.75</td>\n",
       "      <td>0</td>\n",
       "    </tr>\n",
       "    <tr>\n",
       "      <td>24</td>\n",
       "      <td>25</td>\n",
       "      <td>15625047</td>\n",
       "      <td>Yen</td>\n",
       "      <td>846</td>\n",
       "      <td>France</td>\n",
       "      <td>Female</td>\n",
       "      <td>38</td>\n",
       "      <td>5.0</td>\n",
       "      <td>0.00</td>\n",
       "      <td>1</td>\n",
       "      <td>1</td>\n",
       "      <td>1</td>\n",
       "      <td>187616.16</td>\n",
       "      <td>0</td>\n",
       "    </tr>\n",
       "    <tr>\n",
       "      <td>25</td>\n",
       "      <td>26</td>\n",
       "      <td>15738191</td>\n",
       "      <td>Maclean</td>\n",
       "      <td>577</td>\n",
       "      <td>France</td>\n",
       "      <td>Male</td>\n",
       "      <td>25</td>\n",
       "      <td>3.0</td>\n",
       "      <td>0.00</td>\n",
       "      <td>2</td>\n",
       "      <td>0</td>\n",
       "      <td>1</td>\n",
       "      <td>124508.29</td>\n",
       "      <td>0</td>\n",
       "    </tr>\n",
       "    <tr>\n",
       "      <td>26</td>\n",
       "      <td>27</td>\n",
       "      <td>15736816</td>\n",
       "      <td>Young</td>\n",
       "      <td>756</td>\n",
       "      <td>Germany</td>\n",
       "      <td>Male</td>\n",
       "      <td>36</td>\n",
       "      <td>2.0</td>\n",
       "      <td>136815.64</td>\n",
       "      <td>1</td>\n",
       "      <td>1</td>\n",
       "      <td>1</td>\n",
       "      <td>170041.95</td>\n",
       "      <td>0</td>\n",
       "    </tr>\n",
       "    <tr>\n",
       "      <td>27</td>\n",
       "      <td>28</td>\n",
       "      <td>15700772</td>\n",
       "      <td>Nebechi</td>\n",
       "      <td>571</td>\n",
       "      <td>France</td>\n",
       "      <td>Male</td>\n",
       "      <td>44</td>\n",
       "      <td>9.0</td>\n",
       "      <td>0.00</td>\n",
       "      <td>2</td>\n",
       "      <td>0</td>\n",
       "      <td>0</td>\n",
       "      <td>38433.35</td>\n",
       "      <td>0</td>\n",
       "    </tr>\n",
       "    <tr>\n",
       "      <td>28</td>\n",
       "      <td>29</td>\n",
       "      <td>15728693</td>\n",
       "      <td>McWilliams</td>\n",
       "      <td>574</td>\n",
       "      <td>Germany</td>\n",
       "      <td>Female</td>\n",
       "      <td>43</td>\n",
       "      <td>3.0</td>\n",
       "      <td>141349.43</td>\n",
       "      <td>1</td>\n",
       "      <td>1</td>\n",
       "      <td>1</td>\n",
       "      <td>100187.43</td>\n",
       "      <td>0</td>\n",
       "    </tr>\n",
       "    <tr>\n",
       "      <td>29</td>\n",
       "      <td>30</td>\n",
       "      <td>15656300</td>\n",
       "      <td>Lucciano</td>\n",
       "      <td>411</td>\n",
       "      <td>France</td>\n",
       "      <td>Male</td>\n",
       "      <td>29</td>\n",
       "      <td>0.0</td>\n",
       "      <td>59697.17</td>\n",
       "      <td>2</td>\n",
       "      <td>1</td>\n",
       "      <td>1</td>\n",
       "      <td>53483.21</td>\n",
       "      <td>0</td>\n",
       "    </tr>\n",
       "    <tr>\n",
       "      <td>30</td>\n",
       "      <td>31</td>\n",
       "      <td>15589475</td>\n",
       "      <td>Azikiwe</td>\n",
       "      <td>591</td>\n",
       "      <td>Spain</td>\n",
       "      <td>Female</td>\n",
       "      <td>39</td>\n",
       "      <td>NaN</td>\n",
       "      <td>0.00</td>\n",
       "      <td>3</td>\n",
       "      <td>1</td>\n",
       "      <td>0</td>\n",
       "      <td>140469.38</td>\n",
       "      <td>1</td>\n",
       "    </tr>\n",
       "    <tr>\n",
       "      <td>31</td>\n",
       "      <td>32</td>\n",
       "      <td>15706552</td>\n",
       "      <td>Odinakachukwu</td>\n",
       "      <td>533</td>\n",
       "      <td>France</td>\n",
       "      <td>Male</td>\n",
       "      <td>36</td>\n",
       "      <td>7.0</td>\n",
       "      <td>85311.70</td>\n",
       "      <td>1</td>\n",
       "      <td>0</td>\n",
       "      <td>1</td>\n",
       "      <td>156731.91</td>\n",
       "      <td>0</td>\n",
       "    </tr>\n",
       "    <tr>\n",
       "      <td>32</td>\n",
       "      <td>33</td>\n",
       "      <td>15750181</td>\n",
       "      <td>Sanderson</td>\n",
       "      <td>553</td>\n",
       "      <td>Germany</td>\n",
       "      <td>Male</td>\n",
       "      <td>41</td>\n",
       "      <td>9.0</td>\n",
       "      <td>110112.54</td>\n",
       "      <td>2</td>\n",
       "      <td>0</td>\n",
       "      <td>0</td>\n",
       "      <td>81898.81</td>\n",
       "      <td>0</td>\n",
       "    </tr>\n",
       "    <tr>\n",
       "      <td>33</td>\n",
       "      <td>34</td>\n",
       "      <td>15659428</td>\n",
       "      <td>Maggard</td>\n",
       "      <td>520</td>\n",
       "      <td>Spain</td>\n",
       "      <td>Female</td>\n",
       "      <td>42</td>\n",
       "      <td>6.0</td>\n",
       "      <td>0.00</td>\n",
       "      <td>2</td>\n",
       "      <td>1</td>\n",
       "      <td>1</td>\n",
       "      <td>34410.55</td>\n",
       "      <td>0</td>\n",
       "    </tr>\n",
       "    <tr>\n",
       "      <td>34</td>\n",
       "      <td>35</td>\n",
       "      <td>15732963</td>\n",
       "      <td>Clements</td>\n",
       "      <td>722</td>\n",
       "      <td>Spain</td>\n",
       "      <td>Female</td>\n",
       "      <td>29</td>\n",
       "      <td>9.0</td>\n",
       "      <td>0.00</td>\n",
       "      <td>2</td>\n",
       "      <td>1</td>\n",
       "      <td>1</td>\n",
       "      <td>142033.07</td>\n",
       "      <td>0</td>\n",
       "    </tr>\n",
       "    <tr>\n",
       "      <td>35</td>\n",
       "      <td>36</td>\n",
       "      <td>15794171</td>\n",
       "      <td>Lombardo</td>\n",
       "      <td>475</td>\n",
       "      <td>France</td>\n",
       "      <td>Female</td>\n",
       "      <td>45</td>\n",
       "      <td>0.0</td>\n",
       "      <td>134264.04</td>\n",
       "      <td>1</td>\n",
       "      <td>1</td>\n",
       "      <td>0</td>\n",
       "      <td>27822.99</td>\n",
       "      <td>1</td>\n",
       "    </tr>\n",
       "    <tr>\n",
       "      <td>36</td>\n",
       "      <td>37</td>\n",
       "      <td>15788448</td>\n",
       "      <td>Watson</td>\n",
       "      <td>490</td>\n",
       "      <td>Spain</td>\n",
       "      <td>Male</td>\n",
       "      <td>31</td>\n",
       "      <td>3.0</td>\n",
       "      <td>145260.23</td>\n",
       "      <td>1</td>\n",
       "      <td>0</td>\n",
       "      <td>1</td>\n",
       "      <td>114066.77</td>\n",
       "      <td>0</td>\n",
       "    </tr>\n",
       "    <tr>\n",
       "      <td>37</td>\n",
       "      <td>38</td>\n",
       "      <td>15729599</td>\n",
       "      <td>Lorenzo</td>\n",
       "      <td>804</td>\n",
       "      <td>Spain</td>\n",
       "      <td>Male</td>\n",
       "      <td>33</td>\n",
       "      <td>7.0</td>\n",
       "      <td>76548.60</td>\n",
       "      <td>1</td>\n",
       "      <td>0</td>\n",
       "      <td>1</td>\n",
       "      <td>98453.45</td>\n",
       "      <td>0</td>\n",
       "    </tr>\n",
       "    <tr>\n",
       "      <td>38</td>\n",
       "      <td>39</td>\n",
       "      <td>15717426</td>\n",
       "      <td>Armstrong</td>\n",
       "      <td>850</td>\n",
       "      <td>France</td>\n",
       "      <td>Male</td>\n",
       "      <td>36</td>\n",
       "      <td>7.0</td>\n",
       "      <td>0.00</td>\n",
       "      <td>1</td>\n",
       "      <td>1</td>\n",
       "      <td>1</td>\n",
       "      <td>40812.90</td>\n",
       "      <td>0</td>\n",
       "    </tr>\n",
       "    <tr>\n",
       "      <td>39</td>\n",
       "      <td>40</td>\n",
       "      <td>15585768</td>\n",
       "      <td>Cameron</td>\n",
       "      <td>582</td>\n",
       "      <td>Germany</td>\n",
       "      <td>Male</td>\n",
       "      <td>41</td>\n",
       "      <td>6.0</td>\n",
       "      <td>70349.48</td>\n",
       "      <td>2</td>\n",
       "      <td>0</td>\n",
       "      <td>1</td>\n",
       "      <td>178074.04</td>\n",
       "      <td>0</td>\n",
       "    </tr>\n",
       "  </tbody>\n",
       "</table>\n",
       "</div>"
      ],
      "text/plain": [
       "    RowNumber  CustomerId        Surname  CreditScore Geography  Gender  Age  \\\n",
       "0           1    15634602       Hargrave          619    France  Female   42   \n",
       "1           2    15647311           Hill          608     Spain  Female   41   \n",
       "2           3    15619304           Onio          502    France  Female   42   \n",
       "3           4    15701354           Boni          699    France  Female   39   \n",
       "4           5    15737888       Mitchell          850     Spain  Female   43   \n",
       "5           6    15574012            Chu          645     Spain    Male   44   \n",
       "6           7    15592531       Bartlett          822    France    Male   50   \n",
       "7           8    15656148         Obinna          376   Germany  Female   29   \n",
       "8           9    15792365             He          501    France    Male   44   \n",
       "9          10    15592389             H?          684    France    Male   27   \n",
       "10         11    15767821         Bearce          528    France    Male   31   \n",
       "11         12    15737173        Andrews          497     Spain    Male   24   \n",
       "12         13    15632264            Kay          476    France  Female   34   \n",
       "13         14    15691483           Chin          549    France  Female   25   \n",
       "14         15    15600882          Scott          635     Spain  Female   35   \n",
       "15         16    15643966        Goforth          616   Germany    Male   45   \n",
       "16         17    15737452          Romeo          653   Germany    Male   58   \n",
       "17         18    15788218      Henderson          549     Spain  Female   24   \n",
       "18         19    15661507        Muldrow          587     Spain    Male   45   \n",
       "19         20    15568982            Hao          726    France  Female   24   \n",
       "20         21    15577657       McDonald          732    France    Male   41   \n",
       "21         22    15597945       Dellucci          636     Spain  Female   32   \n",
       "22         23    15699309      Gerasimov          510     Spain  Female   38   \n",
       "23         24    15725737         Mosman          669    France    Male   46   \n",
       "24         25    15625047            Yen          846    France  Female   38   \n",
       "25         26    15738191        Maclean          577    France    Male   25   \n",
       "26         27    15736816          Young          756   Germany    Male   36   \n",
       "27         28    15700772        Nebechi          571    France    Male   44   \n",
       "28         29    15728693     McWilliams          574   Germany  Female   43   \n",
       "29         30    15656300       Lucciano          411    France    Male   29   \n",
       "30         31    15589475        Azikiwe          591     Spain  Female   39   \n",
       "31         32    15706552  Odinakachukwu          533    France    Male   36   \n",
       "32         33    15750181      Sanderson          553   Germany    Male   41   \n",
       "33         34    15659428        Maggard          520     Spain  Female   42   \n",
       "34         35    15732963       Clements          722     Spain  Female   29   \n",
       "35         36    15794171       Lombardo          475    France  Female   45   \n",
       "36         37    15788448         Watson          490     Spain    Male   31   \n",
       "37         38    15729599        Lorenzo          804     Spain    Male   33   \n",
       "38         39    15717426      Armstrong          850    France    Male   36   \n",
       "39         40    15585768        Cameron          582   Germany    Male   41   \n",
       "\n",
       "    Tenure    Balance  NumOfProducts  HasCrCard  IsActiveMember  \\\n",
       "0      2.0       0.00              1          1               1   \n",
       "1      1.0   83807.86              1          0               1   \n",
       "2      8.0  159660.80              3          1               0   \n",
       "3      1.0       0.00              2          0               0   \n",
       "4      2.0  125510.82              1          1               1   \n",
       "5      8.0  113755.78              2          1               0   \n",
       "6      7.0       0.00              2          1               1   \n",
       "7      4.0  115046.74              4          1               0   \n",
       "8      4.0  142051.07              2          0               1   \n",
       "9      2.0  134603.88              1          1               1   \n",
       "10     6.0  102016.72              2          0               0   \n",
       "11     3.0       0.00              2          1               0   \n",
       "12    10.0       0.00              2          1               0   \n",
       "13     5.0       0.00              2          0               0   \n",
       "14     7.0       0.00              2          1               1   \n",
       "15     3.0  143129.41              2          0               1   \n",
       "16     1.0  132602.88              1          1               0   \n",
       "17     9.0       0.00              2          1               1   \n",
       "18     6.0       0.00              1          0               0   \n",
       "19     6.0       0.00              2          1               1   \n",
       "20     8.0       0.00              2          1               1   \n",
       "21     8.0       0.00              2          1               0   \n",
       "22     4.0       0.00              1          1               0   \n",
       "23     3.0       0.00              2          0               1   \n",
       "24     5.0       0.00              1          1               1   \n",
       "25     3.0       0.00              2          0               1   \n",
       "26     2.0  136815.64              1          1               1   \n",
       "27     9.0       0.00              2          0               0   \n",
       "28     3.0  141349.43              1          1               1   \n",
       "29     0.0   59697.17              2          1               1   \n",
       "30     NaN       0.00              3          1               0   \n",
       "31     7.0   85311.70              1          0               1   \n",
       "32     9.0  110112.54              2          0               0   \n",
       "33     6.0       0.00              2          1               1   \n",
       "34     9.0       0.00              2          1               1   \n",
       "35     0.0  134264.04              1          1               0   \n",
       "36     3.0  145260.23              1          0               1   \n",
       "37     7.0   76548.60              1          0               1   \n",
       "38     7.0       0.00              1          1               1   \n",
       "39     6.0   70349.48              2          0               1   \n",
       "\n",
       "    EstimatedSalary  Exited  \n",
       "0         101348.88       1  \n",
       "1         112542.58       0  \n",
       "2         113931.57       1  \n",
       "3          93826.63       0  \n",
       "4          79084.10       0  \n",
       "5         149756.71       1  \n",
       "6          10062.80       0  \n",
       "7         119346.88       1  \n",
       "8          74940.50       0  \n",
       "9          71725.73       0  \n",
       "10         80181.12       0  \n",
       "11         76390.01       0  \n",
       "12         26260.98       0  \n",
       "13        190857.79       0  \n",
       "14         65951.65       0  \n",
       "15         64327.26       0  \n",
       "16          5097.67       1  \n",
       "17         14406.41       0  \n",
       "18        158684.81       0  \n",
       "19         54724.03       0  \n",
       "20        170886.17       0  \n",
       "21        138555.46       0  \n",
       "22        118913.53       1  \n",
       "23          8487.75       0  \n",
       "24        187616.16       0  \n",
       "25        124508.29       0  \n",
       "26        170041.95       0  \n",
       "27         38433.35       0  \n",
       "28        100187.43       0  \n",
       "29         53483.21       0  \n",
       "30        140469.38       1  \n",
       "31        156731.91       0  \n",
       "32         81898.81       0  \n",
       "33         34410.55       0  \n",
       "34        142033.07       0  \n",
       "35         27822.99       1  \n",
       "36        114066.77       0  \n",
       "37         98453.45       0  \n",
       "38         40812.90       0  \n",
       "39        178074.04       0  "
      ]
     },
     "execution_count": 16,
     "metadata": {},
     "output_type": "execute_result"
    }
   ],
   "source": [
    "clients.head(40)"
   ]
  },
  {
   "cell_type": "markdown",
   "metadata": {},
   "source": [
    "Видим около 900 пропусков в столбце с количеством недвижимости.\n",
    "Пробуем заполнить пропуски медианным значением количества недвижимости, как у людей такого же возраста."
   ]
  },
  {
   "cell_type": "code",
   "execution_count": 17,
   "metadata": {},
   "outputs": [],
   "source": [
    "clients['Tenure'] = clients['Tenure'].fillna(clients.groupby('Age')['Tenure'].transform('median'))"
   ]
  },
  {
   "cell_type": "code",
   "execution_count": 18,
   "metadata": {},
   "outputs": [
    {
     "name": "stdout",
     "output_type": "stream",
     "text": [
      "<class 'pandas.core.frame.DataFrame'>\n",
      "RangeIndex: 10000 entries, 0 to 9999\n",
      "Data columns (total 14 columns):\n",
      "RowNumber          10000 non-null int64\n",
      "CustomerId         10000 non-null int64\n",
      "Surname            10000 non-null object\n",
      "CreditScore        10000 non-null int64\n",
      "Geography          10000 non-null object\n",
      "Gender             10000 non-null object\n",
      "Age                10000 non-null int64\n",
      "Tenure             10000 non-null float64\n",
      "Balance            10000 non-null float64\n",
      "NumOfProducts      10000 non-null int64\n",
      "HasCrCard          10000 non-null int64\n",
      "IsActiveMember     10000 non-null int64\n",
      "EstimatedSalary    10000 non-null float64\n",
      "Exited             10000 non-null int64\n",
      "dtypes: float64(3), int64(8), object(3)\n",
      "memory usage: 1.1+ MB\n"
     ]
    }
   ],
   "source": [
    "clients.info()"
   ]
  },
  {
   "cell_type": "markdown",
   "metadata": {},
   "source": [
    "Теперь все пропуски заполнены."
   ]
  },
  {
   "cell_type": "code",
   "execution_count": 19,
   "metadata": {},
   "outputs": [],
   "source": [
    "clients_with_dummies = pd.get_dummies(clients, columns=['Gender', 'Geography'])\n",
    "# методом прямого кодирования переводим признаки пола и страны в численные, чтобы можно было анализировать"
   ]
  },
  {
   "cell_type": "code",
   "execution_count": 20,
   "metadata": {},
   "outputs": [],
   "source": [
    "#clients_with_dummies.head()"
   ]
  },
  {
   "cell_type": "markdown",
   "metadata": {},
   "source": [
    "Разделяем исходные данные на обучающую, валидационную и тестовую выборки в соотношении 3:1:1 за два этапа."
   ]
  },
  {
   "cell_type": "code",
   "execution_count": 21,
   "metadata": {},
   "outputs": [],
   "source": [
    "target = clients_with_dummies['Exited'] \n",
    "features = clients_with_dummies.drop(columns=['Exited','RowNumber', 'CustomerId', 'Surname'], axis=1)\n",
    "#Чтобы не мешать модели, удалим и столбцы, которые не несут нужной нам информации. \n",
    "features_train, features_valid, target_train, target_valid = train_test_split(features, target, test_size=0.4, random_state=12345)\n",
    "features_valid, features_test, target_valid, target_test = train_test_split(features_valid, target_valid, test_size=0.5, random_state=12345)"
   ]
  },
  {
   "cell_type": "code",
   "execution_count": 22,
   "metadata": {},
   "outputs": [],
   "source": [
    "numeric = ['CreditScore', 'Age', 'Tenure', 'Balance', 'NumOfProducts', 'EstimatedSalary']\n",
    "# выделяем столбцы с численными значениями признаков"
   ]
  },
  {
   "cell_type": "code",
   "execution_count": 23,
   "metadata": {},
   "outputs": [],
   "source": [
    "scaler = StandardScaler() # проводим стандартизацию данных, т.к. имеем большой разброс значений для разных столбцов\n",
    "scaler.fit(features_train[numeric])\n",
    "features_train[numeric] = scaler.transform(features_train[numeric])\n",
    "features_valid[numeric] = scaler.transform(features_valid[numeric])\n",
    "features_test[numeric] = scaler.transform(features_test[numeric])"
   ]
  },
  {
   "cell_type": "markdown",
   "metadata": {},
   "source": [
    "# 2. Исследование задачи"
   ]
  },
  {
   "cell_type": "code",
   "execution_count": 24,
   "metadata": {},
   "outputs": [
    {
     "name": "stdout",
     "output_type": "stream",
     "text": [
      "0    7963\n",
      "1    2037\n",
      "Name: Exited, dtype: int64\n"
     ]
    }
   ],
   "source": [
    "print(clients['Exited'].value_counts())"
   ]
  },
  {
   "cell_type": "markdown",
   "metadata": {},
   "source": [
    "Наблюдаем значительный дисбаланс классов: отношение ушедших клиентов к оставшимся 1:4.\n",
    "\n",
    "Для начала обучим модель без учёта дисбаланса.\n",
    "В качестве метрики будем использовать F1-меру. "
   ]
  },
  {
   "cell_type": "code",
   "execution_count": 25,
   "metadata": {},
   "outputs": [
    {
     "name": "stdout",
     "output_type": "stream",
     "text": [
      "F-1 мера: 0.33389544688026984\n"
     ]
    }
   ],
   "source": [
    "model = LogisticRegression(random_state=12345, solver='liblinear') # будем исследовать модель логистической регрессии\n",
    "model.fit(features_train, target_train)\n",
    "predicted_valid = model.predict(features_valid)\n",
    "print('F-1 мера:', f1_score(target_valid, predicted_valid))"
   ]
  },
  {
   "cell_type": "code",
   "execution_count": 26,
   "metadata": {},
   "outputs": [
    {
     "name": "stdout",
     "output_type": "stream",
     "text": [
      "max_depth = 1 :0.0\n",
      "max_depth = 2 :0.5142576204523107\n",
      "max_depth = 3 :0.4157160963244613\n",
      "max_depth = 4 :0.5394456289978677\n",
      "max_depth = 5 :0.5579119086460032\n",
      "max_depth = 6 :0.596842105263158\n",
      "max_depth = 7 :0.6248693834900731\n",
      "max_depth = 8 :0.6473072861668427\n",
      "max_depth = 9 :0.7056530214424952\n",
      "max_depth = 10 :0.7427160493827161\n",
      "max_depth = 11 :0.7986921999065858\n",
      "max_depth = 12 :0.8446866485013624\n",
      "max_depth = 13 :0.8853932584269664\n",
      "max_depth = 14 :0.9176574196389256\n",
      "max_depth = 15 :0.9393139841688655\n",
      "max_depth = 16 :0.9589632829373651\n",
      "max_depth = 17 :0.9758781210325856\n",
      "max_depth = 18 :0.9847844463229077\n",
      "max_depth = 19 :0.9915895710681246\n",
      "{1: 0.0, 2: 0.5142576204523107, 3: 0.4157160963244613, 4: 0.5394456289978677, 5: 0.5579119086460032, 6: 0.596842105263158, 7: 0.6248693834900731, 8: 0.6473072861668427, 9: 0.7056530214424952, 10: 0.7427160493827161, 11: 0.7986921999065858, 12: 0.8446866485013624, 13: 0.8853932584269664, 14: 0.9176574196389256, 15: 0.9393139841688655, 16: 0.9589632829373651, 17: 0.9758781210325856, 18: 0.9847844463229077, 19: 0.9915895710681246}\n"
     ]
    }
   ],
   "source": [
    "# будем исследовать модель классификации деревом решений для разной максимальной глубины дерева\n",
    "\n",
    "model1_f1_train = {}\n",
    "for depth in range(1, 20): # проверяем модель на тренировочной выборке\n",
    "    model = DecisionTreeClassifier(random_state=12345, max_depth=depth)\n",
    "    model.fit(features_train, target_train)\n",
    "    predicted_train = model.predict(features_train)\n",
    "    print('max_depth =', depth, ':', end='')\n",
    "    print(f1_score(target_train, predicted_train))\n",
    "    k1 = depth\n",
    "    model1_f1_train[k1] = f1_score(target_train, predicted_train) \n",
    "print(model1_f1_train)"
   ]
  },
  {
   "cell_type": "code",
   "execution_count": 27,
   "metadata": {},
   "outputs": [
    {
     "name": "stdout",
     "output_type": "stream",
     "text": [
      "max_depth = 1 :0.0\n",
      "max_depth = 2 :0.5217391304347825\n",
      "max_depth = 3 :0.4234875444839857\n",
      "max_depth = 4 :0.5528700906344411\n",
      "max_depth = 5 :0.5406249999999999\n",
      "max_depth = 6 :0.5666666666666667\n",
      "max_depth = 7 :0.5462962962962963\n",
      "max_depth = 8 :0.5379939209726444\n",
      "max_depth = 9 :0.5610098176718092\n",
      "max_depth = 10 :0.5369318181818182\n",
      "max_depth = 11 :0.5284015852047557\n",
      "max_depth = 12 :0.5233160621761658\n",
      "max_depth = 13 :0.5077319587628866\n",
      "max_depth = 14 :0.5162907268170427\n",
      "max_depth = 15 :0.49811320754716976\n",
      "max_depth = 16 :0.4987654320987654\n",
      "max_depth = 17 :0.5006075334143378\n",
      "max_depth = 18 :0.4981949458483754\n",
      "max_depth = 19 :0.498220640569395\n"
     ]
    }
   ],
   "source": [
    "model1_f1_valid = {}\n",
    "for depth in range(1, 20): # проверяем модель классификации деревом решений на валидационной выборке\n",
    "    model = DecisionTreeClassifier(random_state=12345, max_depth=depth)\n",
    "    model.fit(features_train, target_train)\n",
    "    predicted_valid = model.predict(features_valid)\n",
    "    print('max_depth =', depth, ':', end='')\n",
    "    print(f1_score(target_valid, predicted_valid)) \n",
    "    k2 = depth\n",
    "    model1_f1_valid[k2] = f1_score(target_valid, predicted_valid)"
   ]
  },
  {
   "cell_type": "code",
   "execution_count": 28,
   "metadata": {},
   "outputs": [
    {
     "data": {
      "text/plain": [
       "Text(0.5, 0, 'max depth')"
      ]
     },
     "execution_count": 28,
     "metadata": {},
     "output_type": "execute_result"
    },
    {
     "data": {
      "image/png": "[encoded data removed]",
      "text/plain": [
       "<Figure size 432x288 with 1 Axes>"
      ]
     },
     "metadata": {
      "needs_background": "light"
     },
     "output_type": "display_data"
    }
   ],
   "source": [
    "model1_f1_valid = pd.Series(model1_f1_valid)\n",
    "model1_f1_train = pd.Series(model1_f1_train)\n",
    "model1_f1 = pd.DataFrame({'model1_f1_valid': model1_f1_valid, 'model1_f1_train': model1_f1_train})\n",
    "#print(model1_acuracy)\n",
    "model1_f1.plot()\n",
    "plt.ylabel('F-1 мера')\n",
    "plt.xlabel('max depth')"
   ]
  },
  {
   "cell_type": "markdown",
   "metadata": {},
   "source": [
    "Из графиков видим, что при глубине более 4 модель уже переобучается.\n",
    "Оптимальное значение глубины - 4."
   ]
  },
  {
   "cell_type": "code",
   "execution_count": 29,
   "metadata": {},
   "outputs": [
    {
     "name": "stdout",
     "output_type": "stream",
     "text": [
      "n_estimators = 2 : 0.7732934728450425\n",
      "n_estimators = 12 : 0.9664371772805507\n",
      "n_estimators = 22 : 0.9894381073088298\n",
      "n_estimators = 32 : 0.9936895246108539\n",
      "n_estimators = 42 : 0.997485331098072\n",
      "n_estimators = 52 : 0.998324958123953\n",
      "n_estimators = 62 : 0.9987442444537463\n",
      "n_estimators = 72 : 0.999581764951903\n",
      "n_estimators = 82 : 0.999581764951903\n",
      "n_estimators = 92 : 0.999581764951903\n",
      "n_estimators = 102 : 0.999581764951903\n"
     ]
    }
   ],
   "source": [
    "# будем исследовать модель случайного леса для разного количества деревьев\n",
    "\n",
    "model2_f1_train = {}\n",
    "\n",
    "for estim in range(2, 103, 10): # проверяем модель на тренировочной выборке\n",
    "    model = RandomForestClassifier(n_estimators=estim, random_state=12345)\n",
    "    model.fit(features_train, target_train)\n",
    "    predicted_train = model.predict(features_train)\n",
    "    f1 = f1_score(target_train, predicted_train)\n",
    "    print(\"n_estimators =\", estim, \":\", f1)\n",
    "    k3 = estim\n",
    "    model2_f1_train[k3] = f1_score(target_train, predicted_train)\n",
    "#print(model2_f1_train)"
   ]
  },
  {
   "cell_type": "code",
   "execution_count": 30,
   "metadata": {},
   "outputs": [
    {
     "name": "stdout",
     "output_type": "stream",
     "text": [
      "n_estimators = 2 : 0.36741214057507987\n",
      "n_estimators = 12 : 0.5432835820895522\n",
      "n_estimators = 22 : 0.5610859728506787\n",
      "n_estimators = 32 : 0.5636363636363636\n",
      "n_estimators = 42 : 0.5735735735735735\n",
      "n_estimators = 52 : 0.5696969696969697\n",
      "n_estimators = 62 : 0.5765765765765767\n",
      "n_estimators = 72 : 0.5697151424287856\n",
      "n_estimators = 82 : 0.5697151424287856\n",
      "n_estimators = 92 : 0.5718608169440242\n",
      "n_estimators = 102 : 0.5744680851063829\n"
     ]
    }
   ],
   "source": [
    "model2_f1_valid = {}\n",
    "\n",
    "for estim in range(2, 103, 10): # проверяем модель случайного леса на валидационной выборке\n",
    "    model = RandomForestClassifier(n_estimators=estim, random_state=12345)\n",
    "    model.fit(features_train, target_train)\n",
    "    predicted_valid = model.predict(features_valid)\n",
    "    f1 = f1_score(target_valid, predicted_valid)\n",
    "    print(\"n_estimators =\", estim, \":\", f1)\n",
    "    k4 = estim\n",
    "    model2_f1_valid[k4] = f1_score(target_valid, predicted_valid) "
   ]
  },
  {
   "cell_type": "code",
   "execution_count": 31,
   "metadata": {},
   "outputs": [
    {
     "data": {
      "text/plain": [
       "Text(0.5, 0, 'n_estimators')"
      ]
     },
     "execution_count": 31,
     "metadata": {},
     "output_type": "execute_result"
    },
    {
     "data": {
      "image/png": "[encoded data removed]",
      "text/plain": [
       "<Figure size 432x288 with 1 Axes>"
      ]
     },
     "metadata": {
      "needs_background": "light"
     },
     "output_type": "display_data"
    }
   ],
   "source": [
    "model2_f1_valid = pd.Series(model2_f1_valid)\n",
    "model2_f1_train = pd.Series(model2_f1_train)\n",
    "model2_f1 = pd.DataFrame({'model2_f1_valid': model2_f1_valid, 'model2_f1_train': model2_f1_train})\n",
    "\n",
    "model2_f1.plot()\n",
    "plt.ylabel('F1-мера')\n",
    "plt.xlabel('n_estimators')"
   ]
  },
  {
   "cell_type": "markdown",
   "metadata": {},
   "source": [
    "Точность на тренировочной выборке выше, чем на валидационной - модель переобучена."
   ]
  },
  {
   "cell_type": "markdown",
   "metadata": {},
   "source": [
    "Общий вывод:\n",
    "    при обучении модель без учёта дисбаланса тремя методами мы получили следующие результаты:\n",
    "    1. для модели логистической регресии F1-мера: 0.33\n",
    "    2. для модели случайного леса сразу происходит переобучение из-за дисбаланса, при избавлении от него будем использовать количество деревьев 10.\n",
    "    3. для модели классификации деревом решений получили максимальное значение F1-меры 0,55 для максимальной глубины 4. Это наилучший результат из трех моделей, но нам нужно его еще повысить. "
   ]
  },
  {
   "cell_type": "markdown",
   "metadata": {},
   "source": [
    "# 3. Борьба с дисбалансом"
   ]
  },
  {
   "cell_type": "markdown",
   "metadata": {},
   "source": [
    "Придадим объектам редкого класса больший вес (клиенты, которые расторгли договор)."
   ]
  },
  {
   "cell_type": "code",
   "execution_count": 32,
   "metadata": {},
   "outputs": [
    {
     "name": "stdout",
     "output_type": "stream",
     "text": [
      "0.5277777777777778\n"
     ]
    }
   ],
   "source": [
    "model = DecisionTreeClassifier(random_state=12345, max_depth=4, class_weight='balanced')\n",
    "# Если указать class_weight='balanced', больший вес будет у редкого класса\n",
    "model.fit(features_train, target_train)\n",
    "predicted_valid = model.predict(features_valid)\n",
    "print(f1_score(target_valid, predicted_valid)) "
   ]
  },
  {
   "cell_type": "markdown",
   "metadata": {},
   "source": [
    "F1-мера даже снизилась до 0.528. Этот варинт не подходит для дерева решений."
   ]
  },
  {
   "cell_type": "code",
   "execution_count": 33,
   "metadata": {},
   "outputs": [
    {
     "name": "stdout",
     "output_type": "stream",
     "text": [
      "F-1 мера: 0.4888507718696398\n"
     ]
    }
   ],
   "source": [
    "model = LogisticRegression(random_state=12345, solver='liblinear', class_weight='balanced') \n",
    "model.fit(features_train, target_train)\n",
    "predicted_valid = model.predict(features_valid)\n",
    "print('F-1 мера:', f1_score(target_valid, predicted_valid))"
   ]
  },
  {
   "cell_type": "markdown",
   "metadata": {},
   "source": [
    "Для логистической регрессии F1-мера повысилась от 0.33 до 0.49"
   ]
  },
  {
   "cell_type": "code",
   "execution_count": 34,
   "metadata": {},
   "outputs": [
    {
     "name": "stdout",
     "output_type": "stream",
     "text": [
      "0.5381026438569206\n"
     ]
    }
   ],
   "source": [
    "model = RandomForestClassifier(n_estimators=10, random_state=12345, class_weight='balanced')\n",
    "model.fit(features_train, target_train)\n",
    "predicted_valid = model.predict(features_valid)\n",
    "f1 = f1_score(target_valid, predicted_valid)\n",
    "print( f1)"
   ]
  },
  {
   "cell_type": "markdown",
   "metadata": {},
   "source": [
    "Для модели случайного леса результат ниже, чем для вариантов без учета классов,но должен быть точнее."
   ]
  },
  {
   "cell_type": "code",
   "execution_count": 35,
   "metadata": {},
   "outputs": [],
   "source": [
    "def downsample(features, target, fraction): # используем downsampling, чтобы убрать часть неважных данных (20%, чтобы не терять много данных)\n",
    "    features_zeros = features[target == 0]\n",
    "    features_ones = features[target == 1]\n",
    "    target_zeros = target[target == 0]\n",
    "    target_ones = target[target == 1]\n",
    "\n",
    "    features_downsampled = pd.concat(\n",
    "        [features_zeros.sample(frac=fraction, random_state=12345)] + [features_ones])\n",
    "    target_downsampled = pd.concat(\n",
    "        [target_zeros.sample(frac=fraction, random_state=12345)] + [target_ones])\n",
    "    \n",
    "    features_downsampled, target_downsampled = shuffle(\n",
    "        features_downsampled, target_downsampled, random_state=12345)\n",
    "    \n",
    "    return features_downsampled, target_downsampled\n",
    "\n",
    "features_downsampled, target_downsampled = downsample(features_train, target_train, 0.8)"
   ]
  },
  {
   "cell_type": "code",
   "execution_count": 36,
   "metadata": {},
   "outputs": [
    {
     "name": "stdout",
     "output_type": "stream",
     "text": [
      "F1: 0.5209003215434084\n"
     ]
    }
   ],
   "source": [
    "model = DecisionTreeClassifier(random_state=12345, max_depth=4) \n",
    "model.fit(features_downsampled, target_downsampled)\n",
    "predicted_valid = model.predict(features_valid)\n",
    "print(\"F1:\", f1_score(target_valid, predicted_valid))"
   ]
  },
  {
   "cell_type": "markdown",
   "metadata": {},
   "source": [
    "Этот варинт не подходит для дерева решений, эффекта нет."
   ]
  },
  {
   "cell_type": "code",
   "execution_count": 37,
   "metadata": {},
   "outputs": [
    {
     "name": "stdout",
     "output_type": "stream",
     "text": [
      "F-1 мера: 0.48805460750853236\n"
     ]
    }
   ],
   "source": [
    "model = LogisticRegression(random_state=12345, solver='liblinear', class_weight='balanced') \n",
    "model.fit(features_downsampled, target_downsampled)\n",
    "predicted_valid = model.predict(features_valid)\n",
    "print('F-1 мера:', f1_score(target_valid, predicted_valid))"
   ]
  },
  {
   "cell_type": "markdown",
   "metadata": {},
   "source": [
    "Для логистической регресии ээфекта также нет."
   ]
  },
  {
   "cell_type": "code",
   "execution_count": 38,
   "metadata": {},
   "outputs": [
    {
     "name": "stdout",
     "output_type": "stream",
     "text": [
      "F-1 мера: 0.5387994143484627\n"
     ]
    }
   ],
   "source": [
    "model = RandomForestClassifier(n_estimators=10, random_state=12345, class_weight='balanced')\n",
    "model.fit(features_downsampled, target_downsampled)\n",
    "predicted_valid = model.predict(features_valid)\n",
    "print('F-1 мера:', f1_score(target_valid, predicted_valid))"
   ]
  },
  {
   "cell_type": "markdown",
   "metadata": {},
   "source": [
    "Для модели стучайного леса также эффекта нет.\n",
    "Не будем учитывать это преобразование (с другими частями удаления также не работало, поэтому я и не включила эти преобразования в начальную версию работы)."
   ]
  },
  {
   "cell_type": "code",
   "execution_count": 39,
   "metadata": {},
   "outputs": [],
   "source": [
    "def upsample(features, target, repeat): #применяем метод upsampling для увеличения доли с 1\n",
    "    features_zeros = features[target == 0]\n",
    "    features_ones = features[target == 1]\n",
    "    target_zeros = target[target == 0]\n",
    "    target_ones = target[target == 1]\n",
    "\n",
    "    features_upsampled = pd.concat([features_zeros] + [features_ones] * repeat)\n",
    "    target_upsampled = pd.concat([target_zeros] + [target_ones] * repeat)\n",
    "    \n",
    "    features_upsampled, target_upsampled = shuffle(\n",
    "        features_upsampled, target_upsampled, random_state=12345)\n",
    "    \n",
    "    return features_upsampled, target_upsampled\n",
    "\n",
    "features_upsampled, target_upsampled = upsample(features_train, target_train, 2)"
   ]
  },
  {
   "cell_type": "code",
   "execution_count": 40,
   "metadata": {
    "scrolled": true
   },
   "outputs": [
    {
     "name": "stdout",
     "output_type": "stream",
     "text": [
      "F1: 0.572987721691678\n"
     ]
    }
   ],
   "source": [
    "model = DecisionTreeClassifier(random_state=12345, max_depth=4) \n",
    "model.fit(features_upsampled, target_upsampled)\n",
    "predicted_valid = model.predict(features_valid)\n",
    "print(\"F1:\", f1_score(target_valid, predicted_valid))"
   ]
  },
  {
   "cell_type": "markdown",
   "metadata": {},
   "source": [
    "Для дерева решений увеличение доли меньшего класса увеличивает F1-меру до 0.57"
   ]
  },
  {
   "cell_type": "code",
   "execution_count": 41,
   "metadata": {},
   "outputs": [
    {
     "name": "stdout",
     "output_type": "stream",
     "text": [
      "F-1 мера: 0.4888507718696398\n"
     ]
    }
   ],
   "source": [
    "model = LogisticRegression(random_state=12345, solver='liblinear', class_weight='balanced') \n",
    "model.fit(features_upsampled, target_upsampled)\n",
    "predicted_valid = model.predict(features_valid)\n",
    "print('F-1 мера:', f1_score(target_valid, predicted_valid))"
   ]
  },
  {
   "cell_type": "markdown",
   "metadata": {},
   "source": [
    "Для логистической регрессии даже немного уменьшил показатель."
   ]
  },
  {
   "cell_type": "code",
   "execution_count": 42,
   "metadata": {},
   "outputs": [
    {
     "name": "stdout",
     "output_type": "stream",
     "text": [
      "F-1 мера: 0.5738636363636364\n"
     ]
    }
   ],
   "source": [
    "model = RandomForestClassifier(n_estimators=10, random_state=12345, class_weight='balanced')\n",
    "model.fit(features_upsampled, target_upsampled)\n",
    "predicted_valid = model.predict(features_valid)\n",
    "print('F-1 мера:', f1_score(target_valid, predicted_valid))"
   ]
  },
  {
   "cell_type": "markdown",
   "metadata": {},
   "source": [
    "Пробуем подобрать оптимальное значение порога, чтобы увеличить F1-меру."
   ]
  },
  {
   "cell_type": "code",
   "execution_count": 43,
   "metadata": {},
   "outputs": [
    {
     "name": "stdout",
     "output_type": "stream",
     "text": [
      "Порог = 0.00 | F1-мера = 0.345 | auc-roc = 0.813\n",
      "Порог = 0.02 | F1-мера = 0.345 | auc-roc = 0.813\n",
      "Порог = 0.04 | F1-мера = 0.401 | auc-roc = 0.813\n",
      "Порог = 0.06 | F1-мера = 0.401 | auc-roc = 0.813\n",
      "Порог = 0.08 | F1-мера = 0.401 | auc-roc = 0.813\n",
      "Порог = 0.10 | F1-мера = 0.401 | auc-roc = 0.813\n",
      "Порог = 0.12 | F1-мера = 0.401 | auc-roc = 0.813\n",
      "Порог = 0.14 | F1-мера = 0.401 | auc-roc = 0.813\n",
      "Порог = 0.16 | F1-мера = 0.447 | auc-roc = 0.813\n",
      "Порог = 0.18 | F1-мера = 0.447 | auc-roc = 0.813\n",
      "Порог = 0.20 | F1-мера = 0.447 | auc-roc = 0.813\n",
      "Порог = 0.22 | F1-мера = 0.447 | auc-roc = 0.813\n",
      "Порог = 0.24 | F1-мера = 0.531 | auc-roc = 0.813\n",
      "Порог = 0.26 | F1-мера = 0.531 | auc-roc = 0.813\n",
      "Порог = 0.28 | F1-мера = 0.531 | auc-roc = 0.813\n",
      "Порог = 0.30 | F1-мера = 0.549 | auc-roc = 0.813\n",
      "Порог = 0.32 | F1-мера = 0.549 | auc-roc = 0.813\n",
      "Порог = 0.34 | F1-мера = 0.549 | auc-roc = 0.813\n",
      "Порог = 0.36 | F1-мера = 0.549 | auc-roc = 0.813\n",
      "Порог = 0.38 | F1-мера = 0.549 | auc-roc = 0.813\n",
      "Порог = 0.40 | F1-мера = 0.549 | auc-roc = 0.813\n",
      "Порог = 0.42 | F1-мера = 0.561 | auc-roc = 0.813\n",
      "Порог = 0.44 | F1-мера = 0.561 | auc-roc = 0.813\n",
      "Порог = 0.46 | F1-мера = 0.561 | auc-roc = 0.813\n",
      "Порог = 0.48 | F1-мера = 0.573 | auc-roc = 0.813\n",
      "Порог = 0.50 | F1-мера = 0.573 | auc-roc = 0.813\n",
      "Порог = 0.52 | F1-мера = 0.573 | auc-roc = 0.813\n",
      "Порог = 0.54 | F1-мера = 0.573 | auc-roc = 0.813\n",
      "Порог = 0.56 | F1-мера = 0.573 | auc-roc = 0.813\n",
      "Порог = 0.58 | F1-мера = 0.553 | auc-roc = 0.813\n",
      "Порог = 0.60 | F1-мера = 0.553 | auc-roc = 0.813\n",
      "Порог = 0.62 | F1-мера = 0.553 | auc-roc = 0.813\n",
      "Порог = 0.64 | F1-мера = 0.553 | auc-roc = 0.813\n",
      "Порог = 0.66 | F1-мера = 0.553 | auc-roc = 0.813\n",
      "Порог = 0.68 | F1-мера = 0.553 | auc-roc = 0.813\n"
     ]
    }
   ],
   "source": [
    "model = DecisionTreeClassifier(random_state=12345, max_depth=4) \n",
    "model.fit(features_upsampled, target_upsampled)\n",
    "probabilities_valid = model.predict_proba(features_valid)\n",
    "probabilities_one_valid = probabilities_valid[:, 1]\n",
    "for threshold in np.arange(0, 0.7, 0.02):\n",
    "    predicted_valid = probabilities_one_valid > threshold\n",
    "    f1 = f1_score(target_valid, predicted_valid)\n",
    "    auc_roc = roc_auc_score(target_valid, probabilities_one_valid)\n",
    "    print(\"Порог = {:.2f} | F1-мера = {:.3f} | auc-roc = {:.3f}\".format(threshold, f1, auc_roc))"
   ]
  },
  {
   "cell_type": "code",
   "execution_count": 44,
   "metadata": {},
   "outputs": [
    {
     "name": "stdout",
     "output_type": "stream",
     "text": [
      "Порог = 0.00 | F1-мера = 0.346 | auc-roc = 0.764\n",
      "Порог = 0.02 | F1-мера = 0.346 | auc-roc = 0.764\n",
      "Порог = 0.04 | F1-мера = 0.346 | auc-roc = 0.764\n",
      "Порог = 0.06 | F1-мера = 0.347 | auc-roc = 0.764\n",
      "Порог = 0.08 | F1-мера = 0.349 | auc-roc = 0.764\n",
      "Порог = 0.10 | F1-мера = 0.354 | auc-roc = 0.764\n",
      "Порог = 0.12 | F1-мера = 0.359 | auc-roc = 0.764\n",
      "Порог = 0.14 | F1-мера = 0.368 | auc-roc = 0.764\n",
      "Порог = 0.16 | F1-мера = 0.375 | auc-roc = 0.764\n",
      "Порог = 0.18 | F1-мера = 0.380 | auc-roc = 0.764\n",
      "Порог = 0.20 | F1-мера = 0.387 | auc-roc = 0.764\n",
      "Порог = 0.22 | F1-мера = 0.398 | auc-roc = 0.764\n",
      "Порог = 0.24 | F1-мера = 0.402 | auc-roc = 0.764\n",
      "Порог = 0.26 | F1-мера = 0.407 | auc-roc = 0.764\n",
      "Порог = 0.28 | F1-мера = 0.415 | auc-roc = 0.764\n",
      "Порог = 0.30 | F1-мера = 0.424 | auc-roc = 0.764\n",
      "Порог = 0.32 | F1-мера = 0.431 | auc-roc = 0.764\n",
      "Порог = 0.34 | F1-мера = 0.440 | auc-roc = 0.764\n",
      "Порог = 0.36 | F1-мера = 0.451 | auc-roc = 0.764\n",
      "Порог = 0.38 | F1-мера = 0.464 | auc-roc = 0.764\n",
      "Порог = 0.40 | F1-мера = 0.472 | auc-roc = 0.764\n",
      "Порог = 0.42 | F1-мера = 0.475 | auc-roc = 0.764\n",
      "Порог = 0.44 | F1-мера = 0.487 | auc-roc = 0.764\n",
      "Порог = 0.46 | F1-мера = 0.485 | auc-roc = 0.764\n",
      "Порог = 0.48 | F1-мера = 0.486 | auc-roc = 0.764\n",
      "Порог = 0.50 | F1-мера = 0.489 | auc-roc = 0.764\n",
      "Порог = 0.52 | F1-мера = 0.494 | auc-roc = 0.764\n",
      "Порог = 0.54 | F1-мера = 0.499 | auc-roc = 0.764\n",
      "Порог = 0.56 | F1-мера = 0.496 | auc-roc = 0.764\n",
      "Порог = 0.58 | F1-мера = 0.495 | auc-roc = 0.764\n",
      "Порог = 0.60 | F1-мера = 0.491 | auc-roc = 0.764\n",
      "Порог = 0.62 | F1-мера = 0.501 | auc-roc = 0.764\n",
      "Порог = 0.64 | F1-мера = 0.488 | auc-roc = 0.764\n",
      "Порог = 0.66 | F1-мера = 0.475 | auc-roc = 0.764\n",
      "Порог = 0.68 | F1-мера = 0.457 | auc-roc = 0.764\n"
     ]
    }
   ],
   "source": [
    "model = LogisticRegression(random_state=12345, solver='liblinear', class_weight='balanced') \n",
    "model.fit(features_upsampled, target_upsampled)\n",
    "probabilities_valid = model.predict_proba(features_valid)\n",
    "probabilities_one_valid = probabilities_valid[:, 1]\n",
    "for threshold in np.arange(0, 0.7, 0.02):\n",
    "    predicted_valid = probabilities_one_valid > threshold\n",
    "    f1 = f1_score(target_valid, predicted_valid)\n",
    "    auc_roc = roc_auc_score(target_valid, probabilities_one_valid)\n",
    "    print(\"Порог = {:.2f} | F1-мера = {:.3f} | auc-roc = {:.3f}\".format(threshold, f1, auc_roc))"
   ]
  },
  {
   "cell_type": "code",
   "execution_count": 45,
   "metadata": {},
   "outputs": [
    {
     "name": "stdout",
     "output_type": "stream",
     "text": [
      "Порог = 0.00 | F1-мера = 0.427 | auc-roc = 0.814\n",
      "Порог = 0.02 | F1-мера = 0.427 | auc-roc = 0.814\n",
      "Порог = 0.04 | F1-мера = 0.427 | auc-roc = 0.814\n",
      "Порог = 0.06 | F1-мера = 0.427 | auc-roc = 0.814\n",
      "Порог = 0.08 | F1-мера = 0.427 | auc-roc = 0.814\n",
      "Порог = 0.10 | F1-мера = 0.491 | auc-roc = 0.814\n",
      "Порог = 0.12 | F1-мера = 0.491 | auc-roc = 0.814\n",
      "Порог = 0.14 | F1-мера = 0.491 | auc-roc = 0.814\n",
      "Порог = 0.16 | F1-мера = 0.491 | auc-roc = 0.814\n",
      "Порог = 0.18 | F1-мера = 0.491 | auc-roc = 0.814\n",
      "Порог = 0.20 | F1-мера = 0.542 | auc-roc = 0.814\n",
      "Порог = 0.22 | F1-мера = 0.542 | auc-roc = 0.814\n",
      "Порог = 0.24 | F1-мера = 0.542 | auc-roc = 0.814\n",
      "Порог = 0.26 | F1-мера = 0.542 | auc-roc = 0.814\n",
      "Порог = 0.28 | F1-мера = 0.542 | auc-roc = 0.814\n",
      "Порог = 0.30 | F1-мера = 0.577 | auc-roc = 0.814\n",
      "Порог = 0.32 | F1-мера = 0.577 | auc-roc = 0.814\n",
      "Порог = 0.34 | F1-мера = 0.577 | auc-roc = 0.814\n",
      "Порог = 0.36 | F1-мера = 0.577 | auc-roc = 0.814\n",
      "Порог = 0.38 | F1-мера = 0.577 | auc-roc = 0.814\n",
      "Порог = 0.40 | F1-мера = 0.591 | auc-roc = 0.814\n",
      "Порог = 0.42 | F1-мера = 0.591 | auc-roc = 0.814\n",
      "Порог = 0.44 | F1-мера = 0.591 | auc-roc = 0.814\n",
      "Порог = 0.46 | F1-мера = 0.591 | auc-roc = 0.814\n",
      "Порог = 0.48 | F1-мера = 0.591 | auc-roc = 0.814\n",
      "Порог = 0.50 | F1-мера = 0.574 | auc-roc = 0.814\n",
      "Порог = 0.52 | F1-мера = 0.574 | auc-roc = 0.814\n",
      "Порог = 0.54 | F1-мера = 0.574 | auc-roc = 0.814\n",
      "Порог = 0.56 | F1-мера = 0.574 | auc-roc = 0.814\n",
      "Порог = 0.58 | F1-мера = 0.574 | auc-roc = 0.814\n",
      "Порог = 0.60 | F1-мера = 0.511 | auc-roc = 0.814\n",
      "Порог = 0.62 | F1-мера = 0.511 | auc-roc = 0.814\n",
      "Порог = 0.64 | F1-мера = 0.511 | auc-roc = 0.814\n",
      "Порог = 0.66 | F1-мера = 0.511 | auc-roc = 0.814\n",
      "Порог = 0.68 | F1-мера = 0.511 | auc-roc = 0.814\n"
     ]
    }
   ],
   "source": [
    "model = RandomForestClassifier(n_estimators=10, random_state=12345, class_weight='balanced')\n",
    "model.fit(features_upsampled, target_upsampled)\n",
    "probabilities_valid = model.predict_proba(features_valid)\n",
    "probabilities_one_valid = probabilities_valid[:, 1]\n",
    "for threshold in np.arange(0, 0.7, 0.02):\n",
    "    predicted_valid = probabilities_one_valid > threshold\n",
    "    f1 = f1_score(target_valid, predicted_valid)\n",
    "    auc_roc = roc_auc_score(target_valid, probabilities_one_valid)\n",
    "    print(\"Порог = {:.2f} | F1-мера = {:.3f} | auc-roc = {:.3f}\".format(threshold, f1, auc_roc))"
   ]
  },
  {
   "cell_type": "markdown",
   "metadata": {},
   "source": [
    "# Общий вывод по изменению порогов:\n",
    " На дерево решений и логистическую регрессию изменение порогов не позволило нам дотянуть до нужного нам показателя.\n",
    " А для модели случайного леса такой порог мы нашли - 0.4 с соответствующим значенем F1-меры 0.591 (значение auc-roc = 0.814 - постоянное для любых порогов и больше, чем в случае с другими моделями).\n",
    " \n",
    " "
   ]
  },
  {
   "cell_type": "code",
   "execution_count": 46,
   "metadata": {},
   "outputs": [
    {
     "name": "stdout",
     "output_type": "stream",
     "text": [
      "F1-мера 0.5911330049261084 auc_roc 0.7384087733412372\n"
     ]
    }
   ],
   "source": [
    "model = RandomForestClassifier(n_estimators=10, random_state=12345, class_weight='balanced') # используем найденный нами порог\n",
    "model.fit(features_upsampled, target_upsampled)\n",
    "probabilities_valid = model.predict_proba(features_valid)\n",
    "probabilities_one_valid = probabilities_valid[:, 1]\n",
    "probabilities_one_valid_threshold = np.where(probabilities_one_valid > 0.4, 1, 0)\n",
    "predicted_valid = probabilities_one_valid_threshold\n",
    "f1 = f1_score(target_valid, predicted_valid)\n",
    "auc_roc = roc_auc_score(target_valid, probabilities_one_valid_threshold)\n",
    "print('F1-мера', f1, 'auc_roc', auc_roc)"
   ]
  },
  {
   "cell_type": "markdown",
   "metadata": {},
   "source": [
    "# 4. Тестирование модели"
   ]
  },
  {
   "cell_type": "code",
   "execution_count": 47,
   "metadata": {},
   "outputs": [
    {
     "name": "stdout",
     "output_type": "stream",
     "text": [
      "F1-мера 0.5591133004926109 auc_roc 0.4889592242875894\n"
     ]
    }
   ],
   "source": [
    "model = RandomForestClassifier(n_estimators=10, random_state=12345, class_weight='balanced')\n",
    "model.fit(features_upsampled, target_upsampled)\n",
    "probabilities_test = model.predict_proba(features_test)\n",
    "probabilities_one_test = probabilities_test[:, 1]\n",
    "probabilities_one_test_threshold = np.where(probabilities_one_test > 0.4, 1, 0)\n",
    "predicted_test = probabilities_one_test_threshold\n",
    "f1 = f1_score(target_test, predicted_test)\n",
    "auc_roc = roc_auc_score(target_valid, probabilities_one_test_threshold)\n",
    "print('F1-мера', f1, 'auc_roc', auc_roc)"
   ]
  },
  {
   "cell_type": "markdown",
   "metadata": {},
   "source": [
    "# Общий вывод\n",
    "\n",
    "При работе с данными со значительным дисбалансом классов качество работы моделей может сильно отличатся от вариантов, когда дисбаланс классов максимально нивелирован.\n",
    "\n",
    "При улучшении качества моделей при дисбалансе классов разные инструменты работают по разному как для датасета, так и для разных моделей, поэтому нужво проверять разные варианты.\n",
    "\n",
    "При использовании разных способов мы выбрали лучшую модель - модели случайного леса (кол-во деревьев 10 с порогом 0.4). Она продемострировала нужное нам значение F1-меры 0.591 (значение auc-roc = 0.814 - постоянное для любых порогов и больше, чем в случае с другими моделями).\n",
    "\n",
    "К сожалению, на тестовой модели результат оказался ниже:\n",
    "   - F1-мера=0.559 и auc_roc=0.489."
   ]
  }
 ],
 "metadata": {
  "kernelspec": {
   "display_name": "Python 3",
   "language": "python",
   "name": "python3"
  },
  "language_info": {
   "codemirror_mode": {
    "name": "ipython",
    "version": 3
   },
   "file_extension": ".py",
   "mimetype": "text/x-python",
   "name": "python",
   "nbconvert_exporter": "python",
   "pygments_lexer": "ipython3",
   "version": "3.7.4"
  }
 },
 "nbformat": 4,
 "nbformat_minor": 2
}
